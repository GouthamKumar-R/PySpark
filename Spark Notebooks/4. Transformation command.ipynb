{
 "cells": [
  {
   "cell_type": "markdown",
   "metadata": {},
   "source": [
    "* map\n",
    "* faltmap\n",
    "* filter\n",
    "* intersection\n",
    "* distinct\n",
    "* join\n",
    "* union\n",
    "* sortByKey\n",
    "* reduceByKey\n",
    "* mapPartitions"
   ]
  },
  {
   "cell_type": "markdown",
   "metadata": {
    "ExecuteTime": {
     "end_time": "2020-12-21T05:00:30.993755Z",
     "start_time": "2020-12-21T05:00:30.977798Z"
    }
   },
   "source": [
    "### Map"
   ]
  },
  {
   "cell_type": "code",
   "execution_count": 2,
   "metadata": {
    "ExecuteTime": {
     "end_time": "2020-12-21T05:01:09.083535Z",
     "start_time": "2020-12-21T05:01:02.078820Z"
    }
   },
   "outputs": [
    {
     "data": {
      "text/plain": [
       "[0, 1, 4, 9, 16, 25]"
      ]
     },
     "execution_count": 2,
     "metadata": {},
     "output_type": "execute_result"
    }
   ],
   "source": [
    "#creating a plain RDD\n",
    "from pyspark import SparkContext\n",
    "sc = SparkContext.getOrCreate()\n",
    "\n",
    "kv1 = sc.parallelize(range(6))\n",
    "kv1.map(lambda x: (x**2)).collect()"
   ]
  },
  {
   "cell_type": "code",
   "execution_count": 3,
   "metadata": {
    "ExecuteTime": {
     "end_time": "2020-12-21T05:02:59.883134Z",
     "start_time": "2020-12-21T05:02:58.791856Z"
    }
   },
   "outputs": [
    {
     "name": "stdout",
     "output_type": "stream",
     "text": [
      "1. Create Connection PySpark.ipynb\n",
      "2. PySpark code and RDD.ipynb\n",
      "3. Actions in Spark.ipynb\n",
      "4. Transformation command.ipynb\n",
      "software installation.txt\n",
      "Spark sainity check.ipynb\n"
     ]
    }
   ],
   "source": [
    "!ls"
   ]
  },
  {
   "cell_type": "code",
   "execution_count": 5,
   "metadata": {
    "ExecuteTime": {
     "end_time": "2020-12-21T05:04:12.478528Z",
     "start_time": "2020-12-21T05:04:11.968891Z"
    }
   },
   "outputs": [
    {
     "data": {
      "text/plain": [
       "[['BDSN', 'software', 'installation'],\n",
       " [''],\n",
       " ['https://drive.google.com/drive/folders/1e-x1mI6mfNnl1v3qZ_jgwfdauo39exxv'],\n",
       " [''],\n",
       " ['Gow-0.8.0.exe'],\n",
       " ['jre-8u271-windows-x64.exe'],\n",
       " ['spark-2.2.0-bin-hadoop2.7.zip'],\n",
       " ['winutils.exe'],\n",
       " [''],\n",
       " ['setx', 'SPARK_HOME', 'C:\\\\sparkinstall\\\\spark-2.2.0-bin-hadoop2.7']]"
      ]
     },
     "execution_count": 5,
     "metadata": {},
     "output_type": "execute_result"
    }
   ],
   "source": [
    "data = sc.textFile(\"software installation.txt\")\n",
    "b = data.map(lambda line: line.split(\" \"))\n",
    "b.take(10)"
   ]
  },
  {
   "cell_type": "markdown",
   "metadata": {},
   "source": [
    "### Flatmap"
   ]
  },
  {
   "cell_type": "code",
   "execution_count": 7,
   "metadata": {
    "ExecuteTime": {
     "end_time": "2020-12-21T05:06:28.641807Z",
     "start_time": "2020-12-21T05:06:23.464146Z"
    }
   },
   "outputs": [
    {
     "data": {
      "text/plain": [
       "[3, 27, 4, 256, 5, 3125]"
      ]
     },
     "execution_count": 7,
     "metadata": {},
     "output_type": "execute_result"
    }
   ],
   "source": [
    "#flattens the list\n",
    "sc.parallelize([3,4,5]).flatMap(lambda x:[x, x**x]).collect()"
   ]
  },
  {
   "cell_type": "markdown",
   "metadata": {},
   "source": [
    "### Filter"
   ]
  },
  {
   "cell_type": "code",
   "execution_count": 9,
   "metadata": {
    "ExecuteTime": {
     "end_time": "2020-12-21T05:10:09.885328Z",
     "start_time": "2020-12-21T05:10:04.947823Z"
    }
   },
   "outputs": [
    {
     "data": {
      "text/plain": [
       "[6, 7, 8, 9]"
      ]
     },
     "execution_count": 9,
     "metadata": {},
     "output_type": "execute_result"
    }
   ],
   "source": [
    "#like our general where filter in sql\n",
    "a = sc.parallelize(range(10))\n",
    "a_filt = a.filter(lambda x : x>5)\n",
    "a_filt.collect()"
   ]
  },
  {
   "cell_type": "code",
   "execution_count": 13,
   "metadata": {
    "ExecuteTime": {
     "end_time": "2020-12-21T05:14:12.379893Z",
     "start_time": "2020-12-21T05:14:11.798750Z"
    }
   },
   "outputs": [
    {
     "data": {
      "text/plain": [
       "['software',\n",
       " 'installation',\n",
       " '',\n",
       " 'https://drive.google.com/drive/folders/1e-x1mi6mfnnl1v3qz_jgwfdauo39exxv',\n",
       " '',\n",
       " 'gow-0.8.0.exe',\n",
       " 'jre-8u271-windows-x64.exe',\n",
       " 'spark-2.2.0-bin-hadoop2.7.zip',\n",
       " 'winutils.exe',\n",
       " '']"
      ]
     },
     "execution_count": 13,
     "metadata": {},
     "output_type": "execute_result"
    }
   ],
   "source": [
    "data = sc.textFile(\"software installation.txt\")\n",
    "b = data.flatMap(lambda line: line.split(\" \")).map(lambda l: l.lower()).filter(lambda value: value!=\"bdsn\")\n",
    "b.take(10)"
   ]
  },
  {
   "cell_type": "markdown",
   "metadata": {},
   "source": [
    "### Union"
   ]
  },
  {
   "cell_type": "code",
   "execution_count": 14,
   "metadata": {
    "ExecuteTime": {
     "end_time": "2020-12-21T05:15:49.101020Z",
     "start_time": "2020-12-21T05:15:39.207853Z"
    }
   },
   "outputs": [
    {
     "data": {
      "text/plain": [
       "[0, 1, 2, 3, 4, 5, 1, 8, 3]"
      ]
     },
     "execution_count": 14,
     "metadata": {},
     "output_type": "execute_result"
    }
   ],
   "source": [
    "rdd1 = sc.parallelize([5,1,8,3])\n",
    "rdd2 = sc.parallelize(range(5))\n",
    "rdd2.union(rdd1).collect()\n",
    "#combines the array/RDDS"
   ]
  },
  {
   "cell_type": "markdown",
   "metadata": {
    "ExecuteTime": {
     "end_time": "2020-12-21T05:16:13.830925Z",
     "start_time": "2020-12-21T05:16:13.817981Z"
    }
   },
   "source": [
    "### Intersection"
   ]
  },
  {
   "cell_type": "code",
   "execution_count": 16,
   "metadata": {
    "ExecuteTime": {
     "end_time": "2020-12-21T05:17:16.282936Z",
     "start_time": "2020-12-21T05:16:46.858855Z"
    }
   },
   "outputs": [
    {
     "data": {
      "text/plain": [
       "[1, 3]"
      ]
     },
     "execution_count": 16,
     "metadata": {},
     "output_type": "execute_result"
    }
   ],
   "source": [
    "rdd2.intersection(rdd1).collect()\n",
    "#common data"
   ]
  },
  {
   "cell_type": "markdown",
   "metadata": {},
   "source": [
    "### SortBY"
   ]
  },
  {
   "cell_type": "code",
   "execution_count": null,
   "metadata": {},
   "outputs": [],
   "source": [
    "x = [2,8,9,74,52,1]\n",
    "sc.parallelize(x).sortBy()"
   ]
  },
  {
   "cell_type": "code",
   "execution_count": 18,
   "metadata": {
    "ExecuteTime": {
     "end_time": "2020-12-21T05:26:33.649266Z",
     "start_time": "2020-12-21T05:26:14.047896Z"
    }
   },
   "outputs": [
    {
     "data": {
      "text/plain": [
       "[('1', 3), ('2', 4), ('a', 1), ('b', 2), ('d', 5)]"
      ]
     },
     "execution_count": 18,
     "metadata": {},
     "output_type": "execute_result"
    }
   ],
   "source": [
    "tmp = [(\"a\",1),(\"b\",2),(\"1\",3),(\"2\",4),(\"d\",5)]\n",
    "#sortby key\n",
    "sc.parallelize(tmp).sortBy(lambda x:x[0]).collect()"
   ]
  },
  {
   "cell_type": "code",
   "execution_count": 19,
   "metadata": {
    "ExecuteTime": {
     "end_time": "2020-12-21T05:27:22.541794Z",
     "start_time": "2020-12-21T05:27:03.542886Z"
    }
   },
   "outputs": [
    {
     "data": {
      "text/plain": [
       "[('a', 1), ('b', 2), ('1', 3), ('2', 4), ('d', 5)]"
      ]
     },
     "execution_count": 19,
     "metadata": {},
     "output_type": "execute_result"
    }
   ],
   "source": [
    "tmp = [(\"a\",1),(\"b\",2),(\"1\",3),(\"2\",4),(\"d\",5)]\n",
    "#sortby value\n",
    "sc.parallelize(tmp).sortBy(lambda x: x[1]).collect()"
   ]
  },
  {
   "cell_type": "markdown",
   "metadata": {},
   "source": [
    "### Joins"
   ]
  },
  {
   "cell_type": "code",
   "execution_count": 23,
   "metadata": {
    "ExecuteTime": {
     "end_time": "2020-12-21T05:33:34.114426Z",
     "start_time": "2020-12-21T05:33:04.660836Z"
    }
   },
   "outputs": [
    {
     "data": {
      "text/plain": [
       "[('a', (1, 2)), ('a', (1, 3))]"
      ]
     },
     "execution_count": 23,
     "metadata": {},
     "output_type": "execute_result"
    }
   ],
   "source": [
    "x = sc.parallelize([(\"a\",1),(\"b\",4)])\n",
    "y = sc.parallelize([(\"a\",2),(\"a\",3)])\n",
    "x.join(y).collect()"
   ]
  },
  {
   "cell_type": "code",
   "execution_count": null,
   "metadata": {},
   "outputs": [],
   "source": []
  }
 ],
 "metadata": {
  "kernelspec": {
   "display_name": "Python 3",
   "language": "python",
   "name": "python3"
  },
  "language_info": {
   "codemirror_mode": {
    "name": "ipython",
    "version": 3
   },
   "file_extension": ".py",
   "mimetype": "text/x-python",
   "name": "python",
   "nbconvert_exporter": "python",
   "pygments_lexer": "ipython3",
   "version": "3.9.0"
  }
 },
 "nbformat": 4,
 "nbformat_minor": 4
}
