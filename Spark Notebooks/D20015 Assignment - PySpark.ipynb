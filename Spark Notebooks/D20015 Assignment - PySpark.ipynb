{
 "cells": [
  {
   "cell_type": "markdown",
   "metadata": {
    "toc": true
   },
   "source": [
    "<h1>Table of Contents<span class=\"tocSkip\"></span></h1>\n",
    "<div class=\"toc\"><ul class=\"toc-item\"><li><span><a href=\"#Create-array-of-names-and-publish-name-and-length-of-each-name\" data-toc-modified-id=\"Create-array-of-names-and-publish-name-and-length-of-each-name-1\"><span class=\"toc-item-num\">1&nbsp;&nbsp;</span>Create array of names and publish name and length of each name</a></span></li><li><span><a href=\"#Create-array-of-names-and-find-max,-min,-standard-deviation,-variance-of-length-of-each-element-in-array\" data-toc-modified-id=\"Create-array-of-names-and-find-max,-min,-standard-deviation,-variance-of-length-of-each-element-in-array-2\"><span class=\"toc-item-num\">2&nbsp;&nbsp;</span>Create array of names and find max, min, standard deviation, variance of length of each element in array</a></span></li><li><span><a href=\"#Conncet-to-SQL-sever-and-retrive-the-data-and-store-in-PySpark-df\" data-toc-modified-id=\"Conncet-to-SQL-sever-and-retrive-the-data-and-store-in-PySpark-df-3\"><span class=\"toc-item-num\">3&nbsp;&nbsp;</span>Conncet to SQL sever and retrive the data and store in PySpark df</a></span></li><li><span><a href=\"#Use-data-set-“ocp_data.tsv”-attached-in-sheet-(data-is-delimited-with-tab-space)\" data-toc-modified-id=\"Use-data-set-“ocp_data.tsv”-attached-in-sheet-(data-is-delimited-with-tab-space)-4\"><span class=\"toc-item-num\">4&nbsp;&nbsp;</span>Use data set “ocp_data.tsv” attached in sheet (data is delimited with tab space)</a></span><ul class=\"toc-item\"><li><span><a href=\"#List-no.-of-shows-per-year\" data-toc-modified-id=\"List-no.-of-shows-per-year-4.1\"><span class=\"toc-item-num\">4.1&nbsp;&nbsp;</span>List no. of shows per year</a></span></li><li><span><a href=\"#List-no.-of-shows-per-year-for-every-occupation\" data-toc-modified-id=\"List-no.-of-shows-per-year-for-every-occupation-4.2\"><span class=\"toc-item-num\">4.2&nbsp;&nbsp;</span>List no. of shows per year for every occupation</a></span></li><li><span><a href=\"#Find-top-occupation-for-every-year.\" data-toc-modified-id=\"Find-top-occupation-for-every-year.-4.3\"><span class=\"toc-item-num\">4.3&nbsp;&nbsp;</span>Find top occupation for every year.</a></span></li><li><span><a href=\"#Which-guest-have-attended-maximum-shows\" data-toc-modified-id=\"Which-guest-have-attended-maximum-shows-4.4\"><span class=\"toc-item-num\">4.4&nbsp;&nbsp;</span>Which guest have attended maximum shows</a></span></li><li><span><a href=\"#List-occupation-under-each-group\" data-toc-modified-id=\"List-occupation-under-each-group-4.5\"><span class=\"toc-item-num\">4.5&nbsp;&nbsp;</span>List occupation under each group</a></span></li><li><span><a href=\"#How-many-show-per-group-of-year-and-occupation\" data-toc-modified-id=\"How-many-show-per-group-of-year-and-occupation-4.6\"><span class=\"toc-item-num\">4.6&nbsp;&nbsp;</span>How many show per group of year and occupation</a></span></li></ul></li></ul></div>"
   ]
  },
  {
   "cell_type": "markdown",
   "metadata": {},
   "source": [
    "Name: **Goutham Kumar R**<br/>\n",
    "Roll no.: **D20015**<br/>\n",
    "Assignment: BDSN - PySpark End term Assignment"
   ]
  },
  {
   "cell_type": "markdown",
   "metadata": {},
   "source": [
    "## Create array of names and publish name and length of each name"
   ]
  },
  {
   "cell_type": "code",
   "execution_count": 91,
   "metadata": {
    "ExecuteTime": {
     "end_time": "2021-02-17T08:56:49.158414Z",
     "start_time": "2021-02-17T08:56:49.119518Z"
    }
   },
   "outputs": [
    {
     "data": {
      "text/plain": [
       "['Goutham Kumar', 'Jim', 'Pranesh', 'Balaji', 'Rekha', 'Roopa', 'Ammu']"
      ]
     },
     "execution_count": 91,
     "metadata": {},
     "output_type": "execute_result"
    }
   ],
   "source": [
    "#Creating Plain RDD\n",
    "from pyspark import SparkContext\n",
    "sc = SparkContext.getOrCreate()\n",
    "array = ['Goutham Kumar','Jim','Pranesh','Balaji','Rekha', 'Roopa', 'Ammu']\n",
    "a = sc.parallelize(array)\n",
    "a.collect()"
   ]
  },
  {
   "cell_type": "code",
   "execution_count": 92,
   "metadata": {
    "ExecuteTime": {
     "end_time": "2021-02-17T08:56:55.159481Z",
     "start_time": "2021-02-17T08:56:55.155492Z"
    }
   },
   "outputs": [
    {
     "data": {
      "text/plain": [
       "7"
      ]
     },
     "execution_count": 92,
     "metadata": {},
     "output_type": "execute_result"
    }
   ],
   "source": [
    "len(array)"
   ]
  },
  {
   "cell_type": "code",
   "execution_count": 93,
   "metadata": {
    "ExecuteTime": {
     "end_time": "2021-02-17T08:57:40.203055Z",
     "start_time": "2021-02-17T08:57:34.581718Z"
    }
   },
   "outputs": [
    {
     "data": {
      "text/plain": [
       "[['Goutham Kumar', 13],\n",
       " ['Jim', 3],\n",
       " ['Pranesh', 7],\n",
       " ['Balaji', 6],\n",
       " ['Rekha', 5],\n",
       " ['Roopa', 5],\n",
       " ['Ammu', 4]]"
      ]
     },
     "execution_count": 93,
     "metadata": {},
     "output_type": "execute_result"
    }
   ],
   "source": [
    "#Length of names\n",
    "a.map(lambda x:[x,len(x)]).collect()"
   ]
  },
  {
   "cell_type": "code",
   "execution_count": 3,
   "metadata": {
    "ExecuteTime": {
     "end_time": "2021-02-17T06:33:18.749394Z",
     "start_time": "2021-02-17T06:33:06.026543Z"
    }
   },
   "outputs": [
    {
     "name": "stdout",
     "output_type": "stream",
     "text": [
      "+-------------+\n",
      "|        Names|\n",
      "+-------------+\n",
      "|Goutham Kumar|\n",
      "|          Jim|\n",
      "|      Pranesh|\n",
      "|       Balaji|\n",
      "|        Rekha|\n",
      "|        Roopa|\n",
      "|         Ammu|\n",
      "+-------------+\n",
      "\n"
     ]
    }
   ],
   "source": [
    "#using dataframe to display it properly\n",
    "namesdf = sqlContext.createDataFrame([(\"Goutham Kumar\",),(\"Jim\",),(\"Pranesh\",),(\"Balaji\",),(\"Rekha\",),(\"Roopa\",),(\"Ammu\",)],[\"Names\"])\n",
    "namesdf.show()"
   ]
  },
  {
   "cell_type": "code",
   "execution_count": 4,
   "metadata": {
    "ExecuteTime": {
     "end_time": "2021-02-17T06:33:30.999677Z",
     "start_time": "2021-02-17T06:33:21.717463Z"
    }
   },
   "outputs": [
    {
     "name": "stdout",
     "output_type": "stream",
     "text": [
      "+-------------+---------------+\n",
      "|        names|length_of_names|\n",
      "+-------------+---------------+\n",
      "|Goutham Kumar|             13|\n",
      "|          Jim|              3|\n",
      "|      Pranesh|              7|\n",
      "|       Balaji|              6|\n",
      "|        Rekha|              5|\n",
      "|        Roopa|              5|\n",
      "|         Ammu|              4|\n",
      "+-------------+---------------+\n",
      "\n"
     ]
    }
   ],
   "source": [
    "#using length fn\n",
    "from pyspark.sql.functions import length\n",
    "namesLengthsDF = namesdf.select('names', length('names').alias('length_of_names')) # transformation\n",
    "namesLengthsDF.show()  #action"
   ]
  },
  {
   "cell_type": "markdown",
   "metadata": {},
   "source": [
    "## Create array of names and find max, min, standard deviation, variance of length of each element in array"
   ]
  },
  {
   "cell_type": "code",
   "execution_count": 94,
   "metadata": {
    "ExecuteTime": {
     "end_time": "2021-02-17T08:57:52.610653Z",
     "start_time": "2021-02-17T08:57:52.577711Z"
    }
   },
   "outputs": [
    {
     "data": {
      "text/plain": [
       "['Goutham Kumar', 'Jim', 'Pranesh', 'Balaji', 'Rekha', 'Roopa', 'Ammu']"
      ]
     },
     "execution_count": 94,
     "metadata": {},
     "output_type": "execute_result"
    }
   ],
   "source": [
    "#Creating Plain RDD\n",
    "from pyspark import SparkContext\n",
    "sc = SparkContext.getOrCreate()\n",
    "array = ['Goutham Kumar','Jim','Pranesh','Balaji','Rekha', 'Roopa', 'Ammu']\n",
    "a = sc.parallelize(array)\n",
    "a.collect()"
   ]
  },
  {
   "cell_type": "code",
   "execution_count": 98,
   "metadata": {
    "ExecuteTime": {
     "end_time": "2021-02-17T08:59:51.672023Z",
     "start_time": "2021-02-17T08:59:46.313172Z"
    }
   },
   "outputs": [
    {
     "data": {
      "text/plain": [
       "[13, 3, 7, 6, 5, 5, 4]"
      ]
     },
     "execution_count": 98,
     "metadata": {},
     "output_type": "execute_result"
    }
   ],
   "source": [
    "#Length of names\n",
    "Len = a.map(lambda x:len(x))\n",
    "Len.collect()"
   ]
  },
  {
   "cell_type": "code",
   "execution_count": 100,
   "metadata": {
    "ExecuteTime": {
     "end_time": "2021-02-17T09:00:41.389936Z",
     "start_time": "2021-02-17T09:00:17.314313Z"
    }
   },
   "outputs": [
    {
     "name": "stdout",
     "output_type": "stream",
     "text": [
      "Max of lengths:  13\n",
      "Min of lengths:  3\n",
      "Standard Deviation of lengths:  3.29\n",
      "Varience of lengths:  9.27\n"
     ]
    }
   ],
   "source": [
    "print(\"Max of lengths: \", Len.max())\n",
    "print(\"Min of lengths: \", Len.min())\n",
    "print(\"Standard Deviation of lengths: \", round(Len.sampleStdev(),2))\n",
    "print(\"Varience of lengths: \", round(Len.variance(), 2))"
   ]
  },
  {
   "cell_type": "code",
   "execution_count": 16,
   "metadata": {
    "ExecuteTime": {
     "end_time": "2021-02-17T06:37:52.718069Z",
     "start_time": "2021-02-17T06:37:43.696175Z"
    }
   },
   "outputs": [
    {
     "name": "stdout",
     "output_type": "stream",
     "text": [
      "+--------------------+\n",
      "|max(length_of_names)|\n",
      "+--------------------+\n",
      "|                  13|\n",
      "+--------------------+\n",
      "\n"
     ]
    }
   ],
   "source": [
    "from pyspark.sql.functions import mean, min, max\n",
    "\n",
    "N_max = namesLengthsDF.select(max('length_of_names'))\n",
    "N_max.show()"
   ]
  },
  {
   "cell_type": "code",
   "execution_count": 19,
   "metadata": {
    "ExecuteTime": {
     "end_time": "2021-02-17T06:38:37.780065Z",
     "start_time": "2021-02-17T06:38:28.751113Z"
    }
   },
   "outputs": [
    {
     "name": "stdout",
     "output_type": "stream",
     "text": [
      "+--------------------+\n",
      "|min(length_of_names)|\n",
      "+--------------------+\n",
      "|                   3|\n",
      "+--------------------+\n",
      "\n"
     ]
    }
   ],
   "source": [
    "from pyspark.sql.functions import mean, min, max\n",
    "\n",
    "N_min = namesLengthsDF.select(min('length_of_names'))\n",
    "N_min.show()"
   ]
  },
  {
   "cell_type": "code",
   "execution_count": 23,
   "metadata": {
    "ExecuteTime": {
     "end_time": "2021-02-17T06:41:25.077751Z",
     "start_time": "2021-02-17T06:41:15.752876Z"
    }
   },
   "outputs": [
    {
     "name": "stdout",
     "output_type": "stream",
     "text": [
      "+----------------------------+\n",
      "|stddev_samp(length_of_names)|\n",
      "+----------------------------+\n",
      "|          3.2877840272018797|\n",
      "+----------------------------+\n",
      "\n"
     ]
    }
   ],
   "source": [
    "from pyspark.sql.functions import stddev \n",
    "\n",
    "N_std = namesLengthsDF.select(stddev('length_of_names'))\n",
    "N_std.show()"
   ]
  },
  {
   "cell_type": "code",
   "execution_count": 24,
   "metadata": {
    "ExecuteTime": {
     "end_time": "2021-02-17T06:42:05.858727Z",
     "start_time": "2021-02-17T06:41:56.171678Z"
    }
   },
   "outputs": [
    {
     "name": "stdout",
     "output_type": "stream",
     "text": [
      "+-------------------------+\n",
      "|var_samp(length_of_names)|\n",
      "+-------------------------+\n",
      "|        10.80952380952381|\n",
      "+-------------------------+\n",
      "\n"
     ]
    }
   ],
   "source": [
    "from pyspark.sql.functions import variance \n",
    "\n",
    "N_var = namesLengthsDF.select(variance('length_of_names'))\n",
    "N_var.show()"
   ]
  },
  {
   "cell_type": "code",
   "execution_count": 22,
   "metadata": {
    "ExecuteTime": {
     "end_time": "2021-02-17T06:40:30.405597Z",
     "start_time": "2021-02-17T06:40:21.473185Z"
    }
   },
   "outputs": [
    {
     "name": "stdout",
     "output_type": "stream",
     "text": [
      "+-------+-----+------------------+\n",
      "|summary|names|   length_of_names|\n",
      "+-------+-----+------------------+\n",
      "|  count|    7|                 7|\n",
      "|   mean| null| 6.142857142857143|\n",
      "| stddev| null|3.2877840272018797|\n",
      "|    min| Ammu|                 3|\n",
      "|    max|Roopa|                13|\n",
      "+-------+-----+------------------+\n",
      "\n"
     ]
    }
   ],
   "source": [
    "namesLengthsDF.describe().show()"
   ]
  },
  {
   "cell_type": "markdown",
   "metadata": {},
   "source": [
    "## Conncet to SQL sever and retrive the data and store in PySpark df"
   ]
  },
  {
   "cell_type": "code",
   "execution_count": 1,
   "metadata": {
    "ExecuteTime": {
     "end_time": "2021-02-15T12:09:47.194070Z",
     "start_time": "2021-02-15T12:09:44.333034Z"
    }
   },
   "outputs": [
    {
     "name": "stdout",
     "output_type": "stream",
     "text": [
      "Collecting pyodbc"
     ]
    },
    {
     "name": "stderr",
     "output_type": "stream",
     "text": [
      "WARNING: You are using pip version 20.3.1; however, version 21.0.1 is available.\n",
      "You should consider upgrading via the 'c:\\users\\goutham-rog\\appdata\\local\\programs\\python\\python39\\python.exe -m pip install --upgrade pip' command.\n"
     ]
    },
    {
     "name": "stdout",
     "output_type": "stream",
     "text": [
      "\n",
      "  Downloading pyodbc-4.0.30-cp39-cp39-win_amd64.whl (67 kB)\n",
      "Installing collected packages: pyodbc\n",
      "Successfully installed pyodbc-4.0.30\n"
     ]
    }
   ],
   "source": [
    "#!pip install pyodbc"
   ]
  },
  {
   "cell_type": "code",
   "execution_count": 5,
   "metadata": {
    "ExecuteTime": {
     "end_time": "2021-02-15T12:26:26.614203Z",
     "start_time": "2021-02-15T12:26:00.196326Z"
    }
   },
   "outputs": [
    {
     "name": "stdout",
     "output_type": "stream",
     "text": [
      "Collecting pandas\n",
      "  Downloading pandas-1.2.2-cp39-cp39-win_amd64.whl (9.3 MB)\n",
      "Requirement already satisfied: python-dateutil>=2.7.3 in c:\\users\\goutham-rog\\appdata\\local\\programs\\python\\python39\\lib\\site-packages (from pandas) (2.8.1)\n",
      "Collecting numpy>=1.16.5\n",
      "  Downloading numpy-1.20.1-cp39-cp39-win_amd64.whl (13.7 MB)\n",
      "Requirement already satisfied: six>=1.5 in c:\\users\\goutham-rog\\appdata\\local\\programs\\python\\python39\\lib\\site-packages (from python-dateutil>=2.7.3->pandas) (1.15.0)\n",
      "Collecting pytz>=2017.3\n",
      "  Downloading pytz-2021.1-py2.py3-none-any.whl (510 kB)\n",
      "Installing collected packages: pytz, numpy, pandas\n",
      "Successfully installed numpy-1.20.1 pandas-1.2.2 pytz-2021.1\n"
     ]
    },
    {
     "name": "stderr",
     "output_type": "stream",
     "text": [
      "WARNING: You are using pip version 20.3.1; however, version 21.0.1 is available.\n",
      "You should consider upgrading via the 'c:\\users\\goutham-rog\\appdata\\local\\programs\\python\\python39\\python.exe -m pip install --upgrade pip' command.\n"
     ]
    }
   ],
   "source": [
    "#!pip install pandas"
   ]
  },
  {
   "cell_type": "markdown",
   "metadata": {},
   "source": [
    "https://github.com/mkleehammer/pyodbc/wiki/Connecting-to-SQL-Server-from-Windows"
   ]
  },
  {
   "cell_type": "markdown",
   "metadata": {},
   "source": [
    "Showing full table"
   ]
  },
  {
   "cell_type": "code",
   "execution_count": 16,
   "metadata": {
    "ExecuteTime": {
     "end_time": "2021-02-15T13:24:27.832076Z",
     "start_time": "2021-02-15T13:24:21.791227Z"
    }
   },
   "outputs": [
    {
     "name": "stdout",
     "output_type": "stream",
     "text": [
      "+-------+---+------+\n",
      "|   name|age|salary|\n",
      "+-------+---+------+\n",
      "|Goutham| 75|   100|\n",
      "|  Roopa| 29|    50|\n",
      "|  Rekha| 50|    40|\n",
      "| Amrita| 66|    45|\n",
      "|   Ammu| 71|    35|\n",
      "| Aparna| 52|    65|\n",
      "| Balaji| 62|    75|\n",
      "|Pranesh| 47|    66|\n",
      "|    Jim| 65|    71|\n",
      "+-------+---+------+\n",
      "\n"
     ]
    }
   ],
   "source": [
    "from pyspark import SparkContext, SparkConf, SQLContext\n",
    "import pyodbc\n",
    "import pandas as pd\n",
    "\n",
    "appName = \"PySpark SQL Server - via ODBC\"\n",
    "master = \"local\"\n",
    "\n",
    "spark = sqlContext.sparkSession\n",
    "\n",
    "database = \"Assignment\"\n",
    "table = \"dbo.emp\"\n",
    "\n",
    "conn = pyodbc.connect(f'DRIVER={{ODBC Driver 17 for SQL Server}};SERVER=GOUTHAM-ROG;DATABASE={database};Trusted_Connection=yes;')\n",
    "query = f\"select * from {table}\"  \n",
    "pdf = pd.read_sql(query, conn)\n",
    "sparkDF =  spark.createDataFrame(pdf)\n",
    "sparkDF.show()"
   ]
  },
  {
   "cell_type": "markdown",
   "metadata": {},
   "source": [
    "After applying the query filter : ppl whose age >60 and getting salary > avg. salary"
   ]
  },
  {
   "cell_type": "code",
   "execution_count": 15,
   "metadata": {
    "ExecuteTime": {
     "end_time": "2021-02-15T13:23:29.411622Z",
     "start_time": "2021-02-15T13:23:18.858139Z"
    }
   },
   "outputs": [
    {
     "name": "stdout",
     "output_type": "stream",
     "text": [
      "+-------+---+------+\n",
      "|   name|age|salary|\n",
      "+-------+---+------+\n",
      "|Goutham| 75|   100|\n",
      "| Balaji| 62|    75|\n",
      "|    Jim| 65|    71|\n",
      "+-------+---+------+\n",
      "\n"
     ]
    }
   ],
   "source": [
    "from pyspark import SparkContext, SparkConf, SQLContext\n",
    "import pyodbc\n",
    "import pandas as pd\n",
    "\n",
    "appName = \"PySpark SQL Server - via ODBC\"\n",
    "master = \"local\"\n",
    "\n",
    "spark = sqlContext.sparkSession\n",
    "\n",
    "database = \"Assignment\"\n",
    "table = \"dbo.emp\"\n",
    "\n",
    "conn = pyodbc.connect(f'DRIVER={{ODBC Driver 17 for SQL Server}};SERVER=GOUTHAM-ROG;DATABASE={database};Trusted_Connection=yes;')\n",
    "query = f\"select * from {table} where salary > (select avg(salary) from {table}) and age>60\"  \n",
    "pdf = pd.read_sql(query, conn)\n",
    "sparkDF =  spark.createDataFrame(pdf)\n",
    "sparkDF.show()"
   ]
  },
  {
   "cell_type": "markdown",
   "metadata": {},
   "source": [
    "##  Use data set “ocp_data.tsv” attached in sheet (data is delimited with tab space)"
   ]
  },
  {
   "cell_type": "markdown",
   "metadata": {},
   "source": [
    "###  List no. of shows per year"
   ]
  },
  {
   "cell_type": "code",
   "execution_count": 26,
   "metadata": {
    "ExecuteTime": {
     "end_time": "2021-02-17T06:49:43.640181Z",
     "start_time": "2021-02-17T06:49:43.261195Z"
    }
   },
   "outputs": [
    {
     "name": "stdout",
     "output_type": "stream",
     "text": [
      "+----+-------------------------+----------+--------+--------------------+\n",
      "|YEAR|GoogleKnowlege_Occupation|      Show|   Group|      Raw_Guest_List|\n",
      "+----+-------------------------+----------+--------+--------------------+\n",
      "|1999|                    actor|01-11-1999|  Acting|      Michael J. Fox|\n",
      "|1999|                 Comedian|01-12-1999|  Comedy|     Sandra Bernhard|\n",
      "|1999|       television actress|   1/13/99|  Acting|       Tracey Ullman|\n",
      "|1999|             film actress|   1/14/99|  Acting|    Gillian Anderson|\n",
      "|1999|                    actor|   1/18/99|  Acting|    David Alan Grier|\n",
      "|1999|                    actor|   1/19/99|  Acting|     William Baldwin|\n",
      "|1999|          Singer-lyricist|   1/20/99|Musician|       Michael Stipe|\n",
      "|1999|                    model|   1/21/99|   Media|      Carmen Electra|\n",
      "|1999|                    actor|   1/25/99|  Acting|     Matthew Lillard|\n",
      "|1999|        stand-up comedian|   1/26/99|  Comedy|         David Cross|\n",
      "|1999|                  actress|   1/27/99|  Acting|      Yasmine Bleeth|\n",
      "|1999|                    actor|   1/28/99|  Acting|       D. L. Hughley|\n",
      "|1999|       television actress|  10/18/99|  Acting|    Rebecca Gayheart|\n",
      "|1999|                 Comedian|  10/19/99|  Comedy|       Steven Wright|\n",
      "|1999|                  actress|  10/20/99|  Acting|       Amy Brenneman|\n",
      "|1999|                  actress|  10/21/99|  Acting|     Melissa Gilbert|\n",
      "|1999|                  actress|  10/25/99|  Acting|      Cathy Moriarty|\n",
      "|1999|                 comedian|  10/26/99|  Comedy|      Louie Anderson|\n",
      "|1999|                  actress|  10/27/99|  Acting|Sarah Michelle Ge...|\n",
      "|1999|        Singer-songwriter|  10/28/99|Musician|           Melanie C|\n",
      "+----+-------------------------+----------+--------+--------------------+\n",
      "only showing top 20 rows\n",
      "\n"
     ]
    }
   ],
   "source": [
    "df = spark.read.csv(\"OCP_data.tsv\", sep=r\"\\t\", header=True)\n",
    "df.show()"
   ]
  },
  {
   "cell_type": "code",
   "execution_count": 27,
   "metadata": {
    "ExecuteTime": {
     "end_time": "2021-02-17T06:50:22.195693Z",
     "start_time": "2021-02-17T06:50:22.188711Z"
    }
   },
   "outputs": [
    {
     "name": "stdout",
     "output_type": "stream",
     "text": [
      "root\n",
      " |-- YEAR: string (nullable = true)\n",
      " |-- GoogleKnowlege_Occupation: string (nullable = true)\n",
      " |-- Show: string (nullable = true)\n",
      " |-- Group: string (nullable = true)\n",
      " |-- Raw_Guest_List: string (nullable = true)\n",
      "\n"
     ]
    }
   ],
   "source": [
    "df.printSchema()"
   ]
  },
  {
   "cell_type": "code",
   "execution_count": 35,
   "metadata": {
    "ExecuteTime": {
     "end_time": "2021-02-17T07:00:04.996466Z",
     "start_time": "2021-02-17T07:00:03.887432Z"
    }
   },
   "outputs": [
    {
     "name": "stdout",
     "output_type": "stream",
     "text": [
      "Year and the corresponding no. of shows:\n"
     ]
    },
    {
     "data": {
      "text/plain": [
       "[Row(YEAR='1999', count=166),\n",
       " Row(YEAR='2000', count=169),\n",
       " Row(YEAR='2001', count=157),\n",
       " Row(YEAR='2002', count=159),\n",
       " Row(YEAR='2003', count=166),\n",
       " Row(YEAR='2004', count=164),\n",
       " Row(YEAR='2005', count=162),\n",
       " Row(YEAR='2006', count=161),\n",
       " Row(YEAR='2007', count=141),\n",
       " Row(YEAR='2008', count=164),\n",
       " Row(YEAR='2009', count=163),\n",
       " Row(YEAR='2010', count=165),\n",
       " Row(YEAR='2011', count=163),\n",
       " Row(YEAR='2012', count=164),\n",
       " Row(YEAR='2013', count=166),\n",
       " Row(YEAR='2014', count=163),\n",
       " Row(YEAR='2015', count=100)]"
      ]
     },
     "execution_count": 35,
     "metadata": {},
     "output_type": "execute_result"
    }
   ],
   "source": [
    "print(\"Year and the corresponding no. of shows:\")\n",
    "sorted(df.groupBy([\"YEAR\"]).count().collect())"
   ]
  },
  {
   "cell_type": "markdown",
   "metadata": {},
   "source": [
    "### List no. of shows per year for every occupation"
   ]
  },
  {
   "cell_type": "code",
   "execution_count": 37,
   "metadata": {
    "ExecuteTime": {
     "end_time": "2021-02-17T07:01:56.967433Z",
     "start_time": "2021-02-17T07:01:55.278946Z"
    }
   },
   "outputs": [
    {
     "data": {
      "text/plain": [
       "[Row(YEAR='1999', GoogleKnowlege_Occupation='Comedian', count=5),\n",
       " Row(YEAR='1999', GoogleKnowlege_Occupation='Comic', count=1),\n",
       " Row(YEAR='1999', GoogleKnowlege_Occupation='Film actor', count=2),\n",
       " Row(YEAR='1999', GoogleKnowlege_Occupation='Film director', count=1),\n",
       " Row(YEAR='1999', GoogleKnowlege_Occupation='Model', count=1),\n",
       " Row(YEAR='1999', GoogleKnowlege_Occupation='NA', count=3),\n",
       " Row(YEAR='1999', GoogleKnowlege_Occupation='Singer-lyricist', count=1),\n",
       " Row(YEAR='1999', GoogleKnowlege_Occupation='Singer-songwriter', count=2),\n",
       " Row(YEAR='1999', GoogleKnowlege_Occupation='Stand-up comedian', count=4),\n",
       " Row(YEAR='1999', GoogleKnowlege_Occupation='Vocalist', count=2),\n",
       " Row(YEAR='1999', GoogleKnowlege_Occupation='actor', count=53),\n",
       " Row(YEAR='1999', GoogleKnowlege_Occupation='actress', count=42),\n",
       " Row(YEAR='1999', GoogleKnowlege_Occupation='american television personality', count=1),\n",
       " Row(YEAR='1999', GoogleKnowlege_Occupation='comedian', count=11),\n",
       " Row(YEAR='1999', GoogleKnowlege_Occupation='director', count=1),\n",
       " Row(YEAR='1999', GoogleKnowlege_Occupation='film actor', count=2),\n",
       " Row(YEAR='1999', GoogleKnowlege_Occupation='film actress', count=3),\n",
       " Row(YEAR='1999', GoogleKnowlege_Occupation='film director', count=1),\n",
       " Row(YEAR='1999', GoogleKnowlege_Occupation='journalist', count=1),\n",
       " Row(YEAR='1999', GoogleKnowlege_Occupation='model', count=1),\n",
       " Row(YEAR='1999', GoogleKnowlege_Occupation='muppet', count=1),\n",
       " Row(YEAR='1999', GoogleKnowlege_Occupation='musician', count=2),\n",
       " Row(YEAR='1999', GoogleKnowlege_Occupation='pianist', count=1),\n",
       " Row(YEAR='1999', GoogleKnowlege_Occupation='rapper', count=1),\n",
       " Row(YEAR='1999', GoogleKnowlege_Occupation='rock band', count=2),\n",
       " Row(YEAR='1999', GoogleKnowlege_Occupation='singer', count=4),\n",
       " Row(YEAR='1999', GoogleKnowlege_Occupation='singer-songwriter', count=2),\n",
       " Row(YEAR='1999', GoogleKnowlege_Occupation='stand-up comedian', count=4),\n",
       " Row(YEAR='1999', GoogleKnowlege_Occupation='television actress', count=5),\n",
       " Row(YEAR='1999', GoogleKnowlege_Occupation='television host', count=1),\n",
       " Row(YEAR='1999', GoogleKnowlege_Occupation='television personality', count=1),\n",
       " Row(YEAR='1999', GoogleKnowlege_Occupation='televison actor', count=1),\n",
       " Row(YEAR='1999', GoogleKnowlege_Occupation='us senator', count=2),\n",
       " Row(YEAR='1999', GoogleKnowlege_Occupation='writer', count=1),\n",
       " Row(YEAR='2000', GoogleKnowlege_Occupation='Band', count=1),\n",
       " Row(YEAR='2000', GoogleKnowlege_Occupation='Film actor', count=2),\n",
       " Row(YEAR='2000', GoogleKnowlege_Occupation='Film actress', count=2),\n",
       " Row(YEAR='2000', GoogleKnowlege_Occupation='Filmmaker', count=2),\n",
       " Row(YEAR='2000', GoogleKnowlege_Occupation='Former U.S. Representative', count=1),\n",
       " Row(YEAR='2000', GoogleKnowlege_Occupation='Former United States Secretary of Labor', count=1),\n",
       " Row(YEAR='2000', GoogleKnowlege_Occupation='Guitarist', count=1),\n",
       " Row(YEAR='2000', GoogleKnowlege_Occupation='Journalist', count=2),\n",
       " Row(YEAR='2000', GoogleKnowlege_Occupation='Media person', count=1),\n",
       " Row(YEAR='2000', GoogleKnowlege_Occupation='Musician', count=1),\n",
       " Row(YEAR='2000', GoogleKnowlege_Occupation='NA', count=4),\n",
       " Row(YEAR='2000', GoogleKnowlege_Occupation='Reporter', count=1),\n",
       " Row(YEAR='2000', GoogleKnowlege_Occupation='Singer', count=1),\n",
       " Row(YEAR='2000', GoogleKnowlege_Occupation='Singer-lyricist', count=1),\n",
       " Row(YEAR='2000', GoogleKnowlege_Occupation='Singer-songwriter', count=2),\n",
       " Row(YEAR='2000', GoogleKnowlege_Occupation='Stand-up comedian', count=2),\n",
       " Row(YEAR='2000', GoogleKnowlege_Occupation='activist', count=1),\n",
       " Row(YEAR='2000', GoogleKnowlege_Occupation='actor', count=61),\n",
       " Row(YEAR='2000', GoogleKnowlege_Occupation='actress', count=29),\n",
       " Row(YEAR='2000', GoogleKnowlege_Occupation='american politician', count=5),\n",
       " Row(YEAR='2000', GoogleKnowlege_Occupation='boxer', count=1),\n",
       " Row(YEAR='2000', GoogleKnowlege_Occupation='businesswoman', count=1),\n",
       " Row(YEAR='2000', GoogleKnowlege_Occupation='comedian', count=8),\n",
       " Row(YEAR='2000', GoogleKnowlege_Occupation='comic', count=1),\n",
       " Row(YEAR='2000', GoogleKnowlege_Occupation='commentator', count=1),\n",
       " Row(YEAR='2000', GoogleKnowlege_Occupation='film actor', count=2),\n",
       " Row(YEAR='2000', GoogleKnowlege_Occupation='film actress', count=3),\n",
       " Row(YEAR='2000', GoogleKnowlege_Occupation='football player', count=1),\n",
       " Row(YEAR='2000', GoogleKnowlege_Occupation='former governor of nebraska', count=1),\n",
       " Row(YEAR='2000', GoogleKnowlege_Occupation='former mayor of cincinatti', count=1),\n",
       " Row(YEAR='2000', GoogleKnowlege_Occupation='former press secretary', count=1),\n",
       " Row(YEAR='2000', GoogleKnowlege_Occupation='former senator from kansas', count=1),\n",
       " Row(YEAR='2000', GoogleKnowlege_Occupation='former us senator', count=3),\n",
       " Row(YEAR='2000', GoogleKnowlege_Occupation='game show host', count=1),\n",
       " Row(YEAR='2000', GoogleKnowlege_Occupation='journalist', count=1),\n",
       " Row(YEAR='2000', GoogleKnowlege_Occupation='magician', count=1),\n",
       " Row(YEAR='2000', GoogleKnowlege_Occupation='model', count=2),\n",
       " Row(YEAR='2000', GoogleKnowlege_Occupation='professional wrestler', count=1),\n",
       " Row(YEAR='2000', GoogleKnowlege_Occupation='publisher', count=1),\n",
       " Row(YEAR='2000', GoogleKnowlege_Occupation='radio personality', count=1),\n",
       " Row(YEAR='2000', GoogleKnowlege_Occupation='rapper', count=1),\n",
       " Row(YEAR='2000', GoogleKnowlege_Occupation='reality show contestant', count=1),\n",
       " Row(YEAR='2000', GoogleKnowlege_Occupation='rock band', count=1),\n",
       " Row(YEAR='2000', GoogleKnowlege_Occupation='singer', count=1),\n",
       " Row(YEAR='2000', GoogleKnowlege_Occupation='singer-songwriter', count=3),\n",
       " Row(YEAR='2000', GoogleKnowlege_Occupation='stand-up comedian', count=1),\n",
       " Row(YEAR='2000', GoogleKnowlege_Occupation='television actress', count=1),\n",
       " Row(YEAR='2000', GoogleKnowlege_Occupation='television host', count=1),\n",
       " Row(YEAR='2000', GoogleKnowlege_Occupation='television personality', count=1),\n",
       " Row(YEAR='2000', GoogleKnowlege_Occupation='writer', count=4),\n",
       " Row(YEAR='2001', GoogleKnowlege_Occupation='American football quarterback', count=1),\n",
       " Row(YEAR='2001', GoogleKnowlege_Occupation='Author', count=1),\n",
       " Row(YEAR='2001', GoogleKnowlege_Occupation='Columnist', count=1),\n",
       " Row(YEAR='2001', GoogleKnowlege_Occupation='Comedian', count=4),\n",
       " Row(YEAR='2001', GoogleKnowlege_Occupation='Diplomat', count=1),\n",
       " Row(YEAR='2001', GoogleKnowlege_Occupation='Film actor', count=1),\n",
       " Row(YEAR='2001', GoogleKnowlege_Occupation='Film actress', count=1),\n",
       " Row(YEAR='2001', GoogleKnowlege_Occupation='Former United States Deputy Secretary of State', count=1),\n",
       " Row(YEAR='2001', GoogleKnowlege_Occupation='Guitarist', count=1),\n",
       " Row(YEAR='2001', GoogleKnowlege_Occupation='Journalist', count=2),\n",
       " Row(YEAR='2001', GoogleKnowlege_Occupation='Lawyer', count=1),\n",
       " Row(YEAR='2001', GoogleKnowlege_Occupation='Model', count=1),\n",
       " Row(YEAR='2001', GoogleKnowlege_Occupation='NA', count=1),\n",
       " Row(YEAR='2001', GoogleKnowlege_Occupation='Political satirist', count=1),\n",
       " Row(YEAR='2001', GoogleKnowlege_Occupation='Pop group', count=1),\n",
       " Row(YEAR='2001', GoogleKnowlege_Occupation='Professor', count=1),\n",
       " Row(YEAR='2001', GoogleKnowlege_Occupation='Reporter', count=1),\n",
       " Row(YEAR='2001', GoogleKnowlege_Occupation='Rock band', count=1),\n",
       " Row(YEAR='2001', GoogleKnowlege_Occupation='Rock duo', count=1),\n",
       " Row(YEAR='2001', GoogleKnowlege_Occupation='Screenwriter', count=1),\n",
       " Row(YEAR='2001', GoogleKnowlege_Occupation='Singer', count=2),\n",
       " Row(YEAR='2001', GoogleKnowlege_Occupation='Stand-up comedian', count=1),\n",
       " Row(YEAR='2001', GoogleKnowlege_Occupation='actor', count=62),\n",
       " Row(YEAR='2001', GoogleKnowlege_Occupation='actress', count=18),\n",
       " Row(YEAR='2001', GoogleKnowlege_Occupation='american television personality', count=1),\n",
       " Row(YEAR='2001', GoogleKnowlege_Occupation='bass guitarist', count=1),\n",
       " Row(YEAR='2001', GoogleKnowlege_Occupation='broadcaster', count=1),\n",
       " Row(YEAR='2001', GoogleKnowlege_Occupation='chef', count=1),\n",
       " Row(YEAR='2001', GoogleKnowlege_Occupation='comedian', count=5),\n",
       " Row(YEAR='2001', GoogleKnowlege_Occupation='commentator', count=1),\n",
       " Row(YEAR='2001', GoogleKnowlege_Occupation='essayist', count=1),\n",
       " Row(YEAR='2001', GoogleKnowlege_Occupation='film actor', count=2),\n",
       " Row(YEAR='2001', GoogleKnowlege_Occupation='film actress', count=3),\n",
       " Row(YEAR='2001', GoogleKnowlege_Occupation='former mayor of cincinatti', count=1),\n",
       " Row(YEAR='2001', GoogleKnowlege_Occupation='former us senator', count=1),\n",
       " Row(YEAR='2001', GoogleKnowlege_Occupation='guitarist', count=1),\n",
       " Row(YEAR='2001', GoogleKnowlege_Occupation='journalist', count=8),\n",
       " Row(YEAR='2001', GoogleKnowlege_Occupation='model', count=2),\n",
       " Row(YEAR='2001', GoogleKnowlege_Occupation='muppet', count=1),\n",
       " Row(YEAR='2001', GoogleKnowlege_Occupation='musician', count=1),\n",
       " Row(YEAR='2001', GoogleKnowlege_Occupation='news anchor', count=1),\n",
       " Row(YEAR='2001', GoogleKnowlege_Occupation='professor', count=1),\n",
       " Row(YEAR='2001', GoogleKnowlege_Occupation='singer', count=2),\n",
       " Row(YEAR='2001', GoogleKnowlege_Occupation='sportscaster', count=1),\n",
       " Row(YEAR='2001', GoogleKnowlege_Occupation='stand-up comedian', count=1),\n",
       " Row(YEAR='2001', GoogleKnowlege_Occupation='stunt perfomrer', count=1),\n",
       " Row(YEAR='2001', GoogleKnowlege_Occupation='television actor', count=1),\n",
       " Row(YEAR='2001', GoogleKnowlege_Occupation='television actress', count=3),\n",
       " Row(YEAR='2001', GoogleKnowlege_Occupation='television host', count=1),\n",
       " Row(YEAR='2001', GoogleKnowlege_Occupation='television personality', count=1),\n",
       " Row(YEAR='2001', GoogleKnowlege_Occupation='television presenter', count=1),\n",
       " Row(YEAR='2001', GoogleKnowlege_Occupation='television producer', count=1),\n",
       " Row(YEAR='2001', GoogleKnowlege_Occupation='telvision personality', count=1),\n",
       " Row(YEAR='2001', GoogleKnowlege_Occupation='us senator', count=1),\n",
       " Row(YEAR='2001', GoogleKnowlege_Occupation='white house sommunications director', count=1),\n",
       " Row(YEAR='2001', GoogleKnowlege_Occupation='writer', count=1),\n",
       " Row(YEAR='2002', GoogleKnowlege_Occupation='Author', count=1),\n",
       " Row(YEAR='2002', GoogleKnowlege_Occupation='Broadcaster', count=2),\n",
       " Row(YEAR='2002', GoogleKnowlege_Occupation='Comedian', count=3),\n",
       " Row(YEAR='2002', GoogleKnowlege_Occupation='Critic', count=1),\n",
       " Row(YEAR='2002', GoogleKnowlege_Occupation='Film director', count=1),\n",
       " Row(YEAR='2002', GoogleKnowlege_Occupation='Filmmaker', count=1),\n",
       " Row(YEAR='2002', GoogleKnowlege_Occupation='Former Assistant to the President for Communications', count=1),\n",
       " Row(YEAR='2002', GoogleKnowlege_Occupation='Former Mayor of New York City', count=1),\n",
       " Row(YEAR='2002', GoogleKnowlege_Occupation='Host', count=1),\n",
       " Row(YEAR='2002', GoogleKnowlege_Occupation='Journalist', count=5),\n",
       " Row(YEAR='2002', GoogleKnowlege_Occupation='Model', count=1),\n",
       " Row(YEAR='2002', GoogleKnowlege_Occupation='NA', count=2),\n",
       " Row(YEAR='2002', GoogleKnowlege_Occupation='Singer-songwriter', count=1),\n",
       " Row(YEAR='2002', GoogleKnowlege_Occupation='Writer', count=1),\n",
       " Row(YEAR='2002', GoogleKnowlege_Occupation='activist', count=1),\n",
       " Row(YEAR='2002', GoogleKnowlege_Occupation='actor', count=64),\n",
       " Row(YEAR='2002', GoogleKnowlege_Occupation='actress', count=20),\n",
       " Row(YEAR='2002', GoogleKnowlege_Occupation='assistant secretary of defense', count=1),\n",
       " Row(YEAR='2002', GoogleKnowlege_Occupation='author', count=1),\n",
       " Row(YEAR='2002', GoogleKnowlege_Occupation='basketball player', count=1),\n",
       " Row(YEAR='2002', GoogleKnowlege_Occupation='commentator', count=2),\n",
       " Row(YEAR='2002', GoogleKnowlege_Occupation='editor', count=4),\n",
       " Row(YEAR='2002', GoogleKnowlege_Occupation='former american senator', count=1),\n",
       " Row(YEAR='2002', GoogleKnowlege_Occupation='former us representativ', count=1),\n",
       " Row(YEAR='2002', GoogleKnowlege_Occupation='former vice president', count=1),\n",
       " Row(YEAR='2002', GoogleKnowlege_Occupation='journalist', count=14),\n",
       " Row(YEAR='2002', GoogleKnowlege_Occupation='lawyer', count=1),\n",
       " Row(YEAR='2002', GoogleKnowlege_Occupation='minister', count=1),\n",
       " Row(YEAR='2002', GoogleKnowlege_Occupation='news anchor', count=3),\n",
       " Row(YEAR='2002', GoogleKnowlege_Occupation='novelist', count=1),\n",
       " Row(YEAR='2002', GoogleKnowlege_Occupation='rapper', count=3),\n",
       " Row(YEAR='2002', GoogleKnowlege_Occupation='rock band', count=1),\n",
       " Row(YEAR='2002', GoogleKnowlege_Occupation='singer-songwriter', count=5),\n",
       " Row(YEAR='2002', GoogleKnowlege_Occupation='soccer player', count=1),\n",
       " Row(YEAR='2002', GoogleKnowlege_Occupation='stand-up comedian', count=2),\n",
       " Row(YEAR='2002', GoogleKnowlege_Occupation='television Personality', count=1),\n",
       " Row(YEAR='2002', GoogleKnowlege_Occupation='television host', count=1),\n",
       " Row(YEAR='2002', GoogleKnowlege_Occupation='television personality', count=1),\n",
       " Row(YEAR='2002', GoogleKnowlege_Occupation='us senator', count=4),\n",
       " Row(YEAR='2002', GoogleKnowlege_Occupation='white house sommunications director', count=1),\n",
       " Row(YEAR='2003', GoogleKnowlege_Occupation='-', count=1),\n",
       " Row(YEAR='2003', GoogleKnowlege_Occupation='Broadcaster', count=1),\n",
       " Row(YEAR='2003', GoogleKnowlege_Occupation='Comedian', count=3),\n",
       " Row(YEAR='2003', GoogleKnowlege_Occupation='Commentator', count=1),\n",
       " Row(YEAR='2003', GoogleKnowlege_Occupation='Film actor', count=1),\n",
       " Row(YEAR='2003', GoogleKnowlege_Occupation='Film actress', count=1),\n",
       " Row(YEAR='2003', GoogleKnowlege_Occupation='Filmmaker', count=2),\n",
       " Row(YEAR='2003', GoogleKnowlege_Occupation='Former U.S. Representative', count=1),\n",
       " Row(YEAR='2003', GoogleKnowlege_Occupation='Former United States Secretary of State', count=2),\n",
       " Row(YEAR='2003', GoogleKnowlege_Occupation='Former White House Press Secretary', count=1),\n",
       " Row(YEAR='2003', GoogleKnowlege_Occupation='Historian', count=1),\n",
       " Row(YEAR='2003', GoogleKnowlege_Occupation='Journalist', count=3),\n",
       " Row(YEAR='2003', GoogleKnowlege_Occupation='Musician', count=1),\n",
       " Row(YEAR='2003', GoogleKnowlege_Occupation='NA', count=6),\n",
       " Row(YEAR='2003', GoogleKnowlege_Occupation='Novelist', count=1),\n",
       " Row(YEAR='2003', GoogleKnowlege_Occupation='Puzzle Creator', count=1),\n",
       " Row(YEAR='2003', GoogleKnowlege_Occupation='Rapper', count=2),\n",
       " Row(YEAR='2003', GoogleKnowlege_Occupation='Singer', count=1),\n",
       " Row(YEAR='2003', GoogleKnowlege_Occupation='Stand-up comedian', count=1),\n",
       " Row(YEAR='2003', GoogleKnowlege_Occupation='Writer', count=2),\n",
       " Row(YEAR='2003', GoogleKnowlege_Occupation='actor', count=47),\n",
       " Row(YEAR='2003', GoogleKnowlege_Occupation='actress', count=24),\n",
       " Row(YEAR='2003', GoogleKnowlege_Occupation='american television personality', count=1),\n",
       " Row(YEAR='2003', GoogleKnowlege_Occupation='author', count=4),\n",
       " Row(YEAR='2003', GoogleKnowlege_Occupation='columnist', count=2),\n",
       " Row(YEAR='2003', GoogleKnowlege_Occupation='comedian', count=3),\n",
       " Row(YEAR='2003', GoogleKnowlege_Occupation='commentator', count=2),\n",
       " Row(YEAR='2003', GoogleKnowlege_Occupation='correspondent', count=1),\n",
       " Row(YEAR='2003', GoogleKnowlege_Occupation='designer', count=1),\n",
       " Row(YEAR='2003', GoogleKnowlege_Occupation='diplomat', count=1),\n",
       " Row(YEAR='2003', GoogleKnowlege_Occupation='editor', count=1),\n",
       " Row(YEAR='2003', GoogleKnowlege_Occupation='foreign policy expert', count=1),\n",
       " Row(YEAR='2003', GoogleKnowlege_Occupation='former majority leader', count=1),\n",
       " Row(YEAR='2003', GoogleKnowlege_Occupation='former national security advisio\\\\r', count=1),\n",
       " Row(YEAR='2003', GoogleKnowlege_Occupation='former us representative', count=2),\n",
       " Row(YEAR='2003', GoogleKnowlege_Occupation='former us senator', count=2),\n",
       " Row(YEAR='2003', GoogleKnowlege_Occupation='historian', count=2),\n",
       " Row(YEAR='2003', GoogleKnowlege_Occupation='journalist', count=7),\n",
       " Row(YEAR='2003', GoogleKnowlege_Occupation='lawyer', count=1),\n",
       " Row(YEAR='2003', GoogleKnowlege_Occupation='model', count=1),\n",
       " Row(YEAR='2003', GoogleKnowlege_Occupation='musician', count=1),\n",
       " Row(YEAR='2003', GoogleKnowlege_Occupation='neurosurgeon', count=1),\n",
       " Row(YEAR='2003', GoogleKnowlege_Occupation='pastor', count=1),\n",
       " Row(YEAR='2003', GoogleKnowlege_Occupation='political figure', count=1),\n",
       " Row(YEAR='2003', GoogleKnowlege_Occupation='political psychologist', count=1),\n",
       " Row(YEAR='2003', GoogleKnowlege_Occupation='radio host', count=2),\n",
       " Row(YEAR='2003', GoogleKnowlege_Occupation='singer', count=1),\n",
       " Row(YEAR='2003', GoogleKnowlege_Occupation='singer-songwriter', count=1),\n",
       " Row(YEAR='2003', GoogleKnowlege_Occupation='stand-up comedian', count=5),\n",
       " Row(YEAR='2003', GoogleKnowlege_Occupation='television actress', count=1),\n",
       " Row(YEAR='2003', GoogleKnowlege_Occupation='television host', count=2),\n",
       " Row(YEAR='2003', GoogleKnowlege_Occupation='television presenter', count=1),\n",
       " Row(YEAR='2003', GoogleKnowlege_Occupation='television producer', count=2),\n",
       " Row(YEAR='2003', GoogleKnowlege_Occupation='united states senator', count=1),\n",
       " Row(YEAR='2003', GoogleKnowlege_Occupation='us senator', count=4),\n",
       " Row(YEAR='2003', GoogleKnowlege_Occupation='writer', count=3),\n",
       " Row(YEAR='2004', GoogleKnowlege_Occupation='0', count=1),\n",
       " Row(YEAR='2004', GoogleKnowlege_Occupation='Adviser', count=1),\n",
       " Row(YEAR='2004', GoogleKnowlege_Occupation='American Political figure', count=1),\n",
       " Row(YEAR='2004', GoogleKnowlege_Occupation='Author', count=3),\n",
       " Row(YEAR='2004', GoogleKnowlege_Occupation='Baseball player', count=1),\n",
       " Row(YEAR='2004', GoogleKnowlege_Occupation='Broadcaster', count=1),\n",
       " Row(YEAR='2004', GoogleKnowlege_Occupation='Businessman', count=1),\n",
       " Row(YEAR='2004', GoogleKnowlege_Occupation='Columnist', count=2),\n",
       " Row(YEAR='2004', GoogleKnowlege_Occupation='Comedian', count=1),\n",
       " Row(YEAR='2004', GoogleKnowlege_Occupation='Commentator', count=2),\n",
       " Row(YEAR='2004', GoogleKnowlege_Occupation='Documentary Filmmaker', count=1),\n",
       " Row(YEAR='2004', GoogleKnowlege_Occupation='Film actor', count=1),\n",
       " Row(YEAR='2004', GoogleKnowlege_Occupation='Film director', count=1),\n",
       " Row(YEAR='2004', GoogleKnowlege_Occupation='Filmmaker', count=1),\n",
       " Row(YEAR='2004', GoogleKnowlege_Occupation='Former American senator', count=1),\n",
       " Row(YEAR='2004', GoogleKnowlege_Occupation='Former Assistant to the President for Communications', count=1),\n",
       " Row(YEAR='2004', GoogleKnowlege_Occupation='Former Governor of New York', count=1),\n",
       " Row(YEAR='2004', GoogleKnowlege_Occupation='Former United States Secretary of Labor', count=1),\n",
       " Row(YEAR='2004', GoogleKnowlege_Occupation='Former United States Secretary of State', count=1),\n",
       " Row(YEAR='2004', GoogleKnowlege_Occupation='Governor of Virginia', count=1),\n",
       " Row(YEAR='2004', GoogleKnowlege_Occupation='Historian', count=1),\n",
       " Row(YEAR='2004', GoogleKnowlege_Occupation='Journalist', count=7),\n",
       " Row(YEAR='2004', GoogleKnowlege_Occupation='NA', count=2),\n",
       " Row(YEAR='2004', GoogleKnowlege_Occupation='Political Scientist', count=1),\n",
       " Row(YEAR='2004', GoogleKnowlege_Occupation='Singer-songwriter', count=2),\n",
       " Row(YEAR='2004', GoogleKnowlege_Occupation='Trumpeter', count=1),\n",
       " Row(YEAR='2004', GoogleKnowlege_Occupation='Writer', count=1),\n",
       " Row(YEAR='2004', GoogleKnowlege_Occupation='activist', count=2),\n",
       " Row(YEAR='2004', GoogleKnowlege_Occupation='actor', count=31),\n",
       " Row(YEAR='2004', GoogleKnowlege_Occupation='actress', count=15),\n",
       " Row(YEAR='2004', GoogleKnowlege_Occupation='adviser', count=1),\n",
       " Row(YEAR='2004', GoogleKnowlege_Occupation='american politician', count=1),\n",
       " Row(YEAR='2004', GoogleKnowlege_Occupation='analyst', count=1),\n",
       " Row(YEAR='2004', GoogleKnowlege_Occupation='assistant to the president for communications', count=1),\n",
       " Row(YEAR='2004', GoogleKnowlege_Occupation='author', count=6),\n",
       " Row(YEAR='2004', GoogleKnowlege_Occupation='basketball player', count=1),\n",
       " Row(YEAR='2004', GoogleKnowlege_Occupation='business magnate', count=1),\n",
       " Row(YEAR='2004', GoogleKnowlege_Occupation='civil rights activist', count=1),\n",
       " Row(YEAR='2004', GoogleKnowlege_Occupation='comedian', count=5),\n",
       " Row(YEAR='2004', GoogleKnowlege_Occupation='commentator', count=2),\n",
       " Row(YEAR='2004', GoogleKnowlege_Occupation='diplomat', count=2),\n",
       " Row(YEAR='2004', GoogleKnowlege_Occupation='film actor', count=1),\n",
       " Row(YEAR='2004', GoogleKnowlege_Occupation='film actress', count=1),\n",
       " Row(YEAR='2004', GoogleKnowlege_Occupation='former governor of montans', count=1),\n",
       " Row(YEAR='2004', GoogleKnowlege_Occupation='former governor of nebraska', count=2),\n",
       " Row(YEAR='2004', GoogleKnowlege_Occupation='former governor of new jersey', count=1),\n",
       " Row(YEAR='2004', GoogleKnowlege_Occupation='former governor of new mexico', count=1),\n",
       " Row(YEAR='2004', GoogleKnowlege_Occupation='former govrnor of masssachusetts', count=1),\n",
       " Row(YEAR='2004', GoogleKnowlege_Occupation='former mayor of new york', count=2),\n",
       " Row(YEAR='2004', GoogleKnowlege_Occupation='former us senator', count=2),\n",
       " Row(YEAR='2004', GoogleKnowlege_Occupation='journalist', count=10),\n",
       " Row(YEAR='2004', GoogleKnowlege_Occupation='minister', count=1),\n",
       " Row(YEAR='2004', GoogleKnowlege_Occupation='musician', count=1),\n",
       " Row(YEAR='2004', GoogleKnowlege_Occupation='physician', count=1),\n",
       " Row(YEAR='2004', GoogleKnowlege_Occupation='political figure', count=3),\n",
       " Row(YEAR='2004', GoogleKnowlege_Occupation='public official', count=1),\n",
       " Row(YEAR='2004', GoogleKnowlege_Occupation='scientist', count=1),\n",
       " Row(YEAR='2004', GoogleKnowlege_Occupation='secretary of state', count=1),\n",
       " Row(YEAR='2004', GoogleKnowlege_Occupation='singer', count=1),\n",
       " Row(YEAR='2004', GoogleKnowlege_Occupation='social activist', count=1),\n",
       " Row(YEAR='2004', GoogleKnowlege_Occupation='stand-up comedian', count=1),\n",
       " Row(YEAR='2004', GoogleKnowlege_Occupation='stunt perfomrer', count=1),\n",
       " Row(YEAR='2004', GoogleKnowlege_Occupation='television Personality', count=1),\n",
       " Row(YEAR='2004', GoogleKnowlege_Occupation='television actress', count=1),\n",
       " Row(YEAR='2004', GoogleKnowlege_Occupation='television host', count=3),\n",
       " Row(YEAR='2004', GoogleKnowlege_Occupation='television personality', count=1),\n",
       " Row(YEAR='2004', GoogleKnowlege_Occupation='television presenter', count=1),\n",
       " Row(YEAR='2004', GoogleKnowlege_Occupation='united states senator', count=1),\n",
       " Row(YEAR='2004', GoogleKnowlege_Occupation='us president', count=1),\n",
       " Row(YEAR='2004', GoogleKnowlege_Occupation='us representative', count=2),\n",
       " Row(YEAR='2004', GoogleKnowlege_Occupation='us senator', count=6),\n",
       " Row(YEAR='2004', GoogleKnowlege_Occupation='vice president', count=1),\n",
       " Row(YEAR='2004', GoogleKnowlege_Occupation='writer', count=2),\n",
       " Row(YEAR='2005', GoogleKnowlege_Occupation='American football wide receiver', count=1),\n",
       " Row(YEAR='2005', GoogleKnowlege_Occupation='Author', count=4),\n",
       " Row(YEAR='2005', GoogleKnowlege_Occupation='Basketball player', count=1),\n",
       " Row(YEAR='2005', GoogleKnowlege_Occupation='Broadcaster', count=1),\n",
       " Row(YEAR='2005', GoogleKnowlege_Occupation='Businesswoman', count=1),\n",
       " Row(YEAR='2005', GoogleKnowlege_Occupation='Comedian', count=2),\n",
       " Row(YEAR='2005', GoogleKnowlege_Occupation='Commentator', count=1),\n",
       " Row(YEAR='2005', GoogleKnowlege_Occupation='Correspondent', count=1),\n",
       " Row(YEAR='2005', GoogleKnowlege_Occupation='Documentary Filmmaker', count=1),\n",
       " Row(YEAR='2005', GoogleKnowlege_Occupation='Economist', count=1),\n",
       " Row(YEAR='2005', GoogleKnowlege_Occupation='Film actress', count=3),\n",
       " Row(YEAR='2005', GoogleKnowlege_Occupation='Former Governor of Pennsylvania', count=1),\n",
       " Row(YEAR='2005', GoogleKnowlege_Occupation='Former U.S. Representative', count=1),\n",
       " Row(YEAR='2005', GoogleKnowlege_Occupation='Former United States Secretary of Labor', count=1),\n",
       " Row(YEAR='2005', GoogleKnowlege_Occupation='Former United States Senator', count=1),\n",
       " Row(YEAR='2005', GoogleKnowlege_Occupation='Historian', count=1),\n",
       " Row(YEAR='2005', GoogleKnowlege_Occupation='Journalist', count=7),\n",
       " Row(YEAR='2005', GoogleKnowlege_Occupation='Music Producer', count=1),\n",
       " Row(YEAR='2005', GoogleKnowlege_Occupation='Musician', count=1),\n",
       " Row(YEAR='2005', GoogleKnowlege_Occupation='Political figure', count=1),\n",
       " Row(YEAR='2005', GoogleKnowlege_Occupation='Professor', count=1),\n",
       " Row(YEAR='2005', GoogleKnowlege_Occupation='Rock duo', count=1),\n",
       " Row(YEAR='2005', GoogleKnowlege_Occupation='Scholar', count=1),\n",
       " Row(YEAR='2005', GoogleKnowlege_Occupation='Singer', count=1),\n",
       " Row(YEAR='2005', GoogleKnowlege_Occupation='Singer-songwriter', count=1),\n",
       " Row(YEAR='2005', GoogleKnowlege_Occupation='Writer', count=2),\n",
       " Row(YEAR='2005', GoogleKnowlege_Occupation='actor', count=25),\n",
       " Row(YEAR='2005', GoogleKnowlege_Occupation='actress', count=14),\n",
       " Row(YEAR='2005', GoogleKnowlege_Occupation='adviser', count=1),\n",
       " Row(YEAR='2005', GoogleKnowlege_Occupation='american politician', count=1),\n",
       " Row(YEAR='2005', GoogleKnowlege_Occupation='attorney', count=1),\n",
       " Row(YEAR='2005', GoogleKnowlege_Occupation='author', count=8),\n",
       " Row(YEAR='2005', GoogleKnowlege_Occupation='biographer', count=1),\n",
       " Row(YEAR='2005', GoogleKnowlege_Occupation='columnist', count=1),\n",
       " Row(YEAR='2005', GoogleKnowlege_Occupation='comedian', count=2),\n",
       " Row(YEAR='2005', GoogleKnowlege_Occupation='consultant', count=1),\n",
       " Row(YEAR='2005', GoogleKnowlege_Occupation='doctor', count=1),\n",
       " Row(YEAR='2005', GoogleKnowlege_Occupation='economist', count=1),\n",
       " Row(YEAR='2005', GoogleKnowlege_Occupation='film actress', count=1),\n",
       " Row(YEAR='2005', GoogleKnowlege_Occupation='foreign policy strategist', count=1),\n",
       " Row(YEAR='2005', GoogleKnowlege_Occupation='former governor of nebraska', count=1),\n",
       " Row(YEAR='2005', GoogleKnowlege_Occupation='former governor of new jersey', count=1),\n",
       " Row(YEAR='2005', GoogleKnowlege_Occupation='former governor of vermont', count=1),\n",
       " Row(YEAR='2005', GoogleKnowlege_Occupation='former president', count=1),\n",
       " Row(YEAR='2005', GoogleKnowlege_Occupation='former speaker of the the house', count=1),\n",
       " Row(YEAR='2005', GoogleKnowlege_Occupation='former us secretary of defense', count=1),\n",
       " Row(YEAR='2005', GoogleKnowlege_Occupation='former white house press secretary', count=2),\n",
       " Row(YEAR='2005', GoogleKnowlege_Occupation='historian', count=2),\n",
       " Row(YEAR='2005', GoogleKnowlege_Occupation='journalist', count=14),\n",
       " Row(YEAR='2005', GoogleKnowlege_Occupation='lawyer', count=2),\n",
       " Row(YEAR='2005', GoogleKnowlege_Occupation='mathematician', count=1),\n",
       " Row(YEAR='2005', GoogleKnowlege_Occupation='military officer', count=1),\n",
       " Row(YEAR='2005', GoogleKnowlege_Occupation='novelist', count=1),\n",
       " Row(YEAR='2005', GoogleKnowlege_Occupation='philosopher', count=1),\n",
       " Row(YEAR='2005', GoogleKnowlege_Occupation='professor', count=2),\n",
       " Row(YEAR='2005', GoogleKnowlege_Occupation='psychic', count=1),\n",
       " Row(YEAR='2005', GoogleKnowlege_Occupation='radio host', count=1),\n",
       " Row(YEAR='2005', GoogleKnowlege_Occupation='radio personality', count=1),\n",
       " Row(YEAR='2005', GoogleKnowlege_Occupation='rapper', count=2),\n",
       " Row(YEAR='2005', GoogleKnowlege_Occupation='singer', count=2),\n",
       " Row(YEAR='2005', GoogleKnowlege_Occupation='singer-songwriter', count=2),\n",
       " Row(YEAR='2005', GoogleKnowlege_Occupation='sportscaster', count=1),\n",
       " Row(YEAR='2005', GoogleKnowlege_Occupation='stand-up comedian', count=1),\n",
       " Row(YEAR='2005', GoogleKnowlege_Occupation='television actress', count=1),\n",
       " Row(YEAR='2005', GoogleKnowlege_Occupation='television host', count=3),\n",
       " Row(YEAR='2005', GoogleKnowlege_Occupation='television personality', count=1),\n",
       " Row(YEAR='2005', GoogleKnowlege_Occupation='united states senator', count=1),\n",
       " Row(YEAR='2005', GoogleKnowlege_Occupation='us assistant attorney', count=1),\n",
       " Row(YEAR='2005', GoogleKnowlege_Occupation='us senator', count=9),\n",
       " Row(YEAR='2005', GoogleKnowlege_Occupation='writer', count=5),\n",
       " Row(YEAR='2006', GoogleKnowlege_Occupation='Academic', count=1),\n",
       " Row(YEAR='2006', GoogleKnowlege_Occupation='American Political figure', count=1),\n",
       " Row(YEAR='2006', GoogleKnowlege_Occupation='Author', count=3),\n",
       " Row(YEAR='2006', GoogleKnowlege_Occupation='Broadcaster', count=2),\n",
       " Row(YEAR='2006', GoogleKnowlege_Occupation='Columnist', count=1),\n",
       " Row(YEAR='2006', GoogleKnowlege_Occupation='Comedian', count=2),\n",
       " Row(YEAR='2006', GoogleKnowlege_Occupation='Economist', count=1),\n",
       " Row(YEAR='2006', GoogleKnowlege_Occupation='Entrepreneur', count=1),\n",
       " Row(YEAR='2006', GoogleKnowlege_Occupation='Film critic', count=1),\n",
       " Row(YEAR='2006', GoogleKnowlege_Occupation='Film director', count=1),\n",
       " Row(YEAR='2006', GoogleKnowlege_Occupation='Former Assistant to the President for Communications', count=1),\n",
       " Row(YEAR='2006', GoogleKnowlege_Occupation='Former Governor of New Jersey', count=1),\n",
       " Row(YEAR='2006', GoogleKnowlege_Occupation='Former President of Pakistan', count=1),\n",
       " Row(YEAR='2006', GoogleKnowlege_Occupation='Former United States Secretary of State', count=1),\n",
       " Row(YEAR='2006', GoogleKnowlege_Occupation='Former United States Senator', count=2),\n",
       " Row(YEAR='2006', GoogleKnowlege_Occupation='Former member of the United States Senate', count=1),\n",
       " Row(YEAR='2006', GoogleKnowlege_Occupation='Historian', count=1),\n",
       " Row(YEAR='2006', GoogleKnowlege_Occupation='Journalist', count=4),\n",
       " Row(YEAR='2006', GoogleKnowlege_Occupation='Mayor of Chicago', count=1),\n",
       " Row(YEAR='2006', GoogleKnowlege_Occupation='NA', count=1),\n",
       " Row(YEAR='2006', GoogleKnowlege_Occupation='Professional Road Racing Cyclist', count=1),\n",
       " Row(YEAR='2006', GoogleKnowlege_Occupation='Professor', count=3),\n",
       " Row(YEAR='2006', GoogleKnowlege_Occupation='Rock duo', count=1),\n",
       " Row(YEAR='2006', GoogleKnowlege_Occupation='Singer', count=1),\n",
       " Row(YEAR='2006', GoogleKnowlege_Occupation='Singer-songwriter', count=3),\n",
       " Row(YEAR='2006', GoogleKnowlege_Occupation='Stand-up comedian', count=1),\n",
       " Row(YEAR='2006', GoogleKnowlege_Occupation='United States Secretary of Agriculture', count=1),\n",
       " Row(YEAR='2006', GoogleKnowlege_Occupation='actor', count=33),\n",
       " Row(YEAR='2006', GoogleKnowlege_Occupation='actress', count=9),\n",
       " Row(YEAR='2006', GoogleKnowlege_Occupation='astronaut', count=1),\n",
       " Row(YEAR='2006', GoogleKnowlege_Occupation='author', count=9),\n",
       " Row(YEAR='2006', GoogleKnowlege_Occupation='basketball player', count=2),\n",
       " Row(YEAR='2006', GoogleKnowlege_Occupation='comedian', count=3),\n",
       " Row(YEAR='2006', GoogleKnowlege_Occupation='commentator', count=2),\n",
       " Row(YEAR='2006', GoogleKnowlege_Occupation='communications consultant', count=1),\n",
       " Row(YEAR='2006', GoogleKnowlege_Occupation='diplomat', count=1),\n",
       " Row(YEAR='2006', GoogleKnowlege_Occupation='documentarian', count=1),\n",
       " Row(YEAR='2006', GoogleKnowlege_Occupation='editor', count=2),\n",
       " Row(YEAR='2006', GoogleKnowlege_Occupation='essayist', count=1),\n",
       " Row(YEAR='2006', GoogleKnowlege_Occupation='filmmaker', count=1),\n",
       " Row(YEAR='2006', GoogleKnowlege_Occupation='former american senator', count=1),\n",
       " Row(YEAR='2006', GoogleKnowlege_Occupation='former governor of missouri', count=1),\n",
       " Row(YEAR='2006', GoogleKnowlege_Occupation='former governor of new jersey', count=1),\n",
       " Row(YEAR='2006', GoogleKnowlege_Occupation='former governor of rhode island', count=1),\n",
       " Row(YEAR='2006', GoogleKnowlege_Occupation='former governor of vermont', count=2),\n",
       " Row(YEAR='2006', GoogleKnowlege_Occupation='former us secretary of education', count=1),\n",
       " Row(YEAR='2006', GoogleKnowlege_Occupation='former us senator', count=2),\n",
       " Row(YEAR='2006', GoogleKnowlege_Occupation='former vice president', count=1),\n",
       " Row(YEAR='2006', GoogleKnowlege_Occupation='former white house chief of staff', count=1),\n",
       " Row(YEAR='2006', GoogleKnowlege_Occupation='former white house counsel', count=1),\n",
       " Row(YEAR='2006', GoogleKnowlege_Occupation='high-altitude mountaineer', count=1),\n",
       " Row(YEAR='2006', GoogleKnowlege_Occupation='historian', count=1),\n",
       " Row(YEAR='2006', GoogleKnowlege_Occupation='inspector general of homeland security department', count=1),\n",
       " Row(YEAR='2006', GoogleKnowlege_Occupation='intellectual', count=1),\n",
       " Row(YEAR='2006', GoogleKnowlege_Occupation='israeli official', count=1),\n",
       " Row(YEAR='2006', GoogleKnowlege_Occupation='journalist', count=16),\n",
       " Row(YEAR='2006', GoogleKnowlege_Occupation='lawyer', count=3),\n",
       " Row(YEAR='2006', GoogleKnowlege_Occupation='military', count=1),\n",
       " Row(YEAR='2006', GoogleKnowlege_Occupation='political expert', count=1),\n",
       " Row(YEAR='2006', GoogleKnowlege_Occupation='political figure', count=1),\n",
       " Row(YEAR='2006', GoogleKnowlege_Occupation='political scientist', count=3),\n",
       " Row(YEAR='2006', GoogleKnowlege_Occupation='race car driver', count=1),\n",
       " Row(YEAR='2006', GoogleKnowlege_Occupation='reporter', count=1),\n",
       " Row(YEAR='2006', GoogleKnowlege_Occupation='scholar', count=1),\n",
       " Row(YEAR='2006', GoogleKnowlege_Occupation='singer', count=1),\n",
       " Row(YEAR='2006', GoogleKnowlege_Occupation='stand-up comedian', count=2),\n",
       " Row(YEAR='2006', GoogleKnowlege_Occupation='stunt perfomrer', count=1),\n",
       " Row(YEAR='2006', GoogleKnowlege_Occupation='television personality', count=1),\n",
       " Row(YEAR='2006', GoogleKnowlege_Occupation='telvision actor', count=1),\n",
       " Row(YEAR='2006', GoogleKnowlege_Occupation='united states senator', count=1),\n",
       " Row(YEAR='2006', GoogleKnowlege_Occupation='us president', count=1),\n",
       " Row(YEAR='2006', GoogleKnowlege_Occupation='us senator', count=2),\n",
       " Row(YEAR='2006', GoogleKnowlege_Occupation='writer', count=1),\n",
       " Row(YEAR='2007', GoogleKnowlege_Occupation='0', count=1),\n",
       " Row(YEAR='2007', GoogleKnowlege_Occupation='American football running back', count=1),\n",
       " Row(YEAR='2007', GoogleKnowlege_Occupation='Astrophysicist', count=2),\n",
       " Row(YEAR='2007', GoogleKnowlege_Occupation='Author', count=2),\n",
       " Row(YEAR='2007', GoogleKnowlege_Occupation='Broadcaster', count=2),\n",
       " Row(YEAR='2007', GoogleKnowlege_Occupation='Cartoonist', count=1),\n",
       " Row(YEAR='2007', GoogleKnowlege_Occupation='Chef', count=1),\n",
       " Row(YEAR='2007', GoogleKnowlege_Occupation='Columnist', count=2),\n",
       " Row(YEAR='2007', GoogleKnowlege_Occupation='Comedian', count=1),\n",
       " Row(YEAR='2007', GoogleKnowlege_Occupation='Correspondent', count=1),\n",
       " Row(YEAR='2007', GoogleKnowlege_Occupation='Film actor', count=1),\n",
       " Row(YEAR='2007', GoogleKnowlege_Occupation='Film-maker', count=1),\n",
       " Row(YEAR='2007', GoogleKnowlege_Occupation='Filmmaker', count=2),\n",
       " Row(YEAR='2007', GoogleKnowlege_Occupation='Former President of Mexico', count=1),\n",
       " Row(YEAR='2007', GoogleKnowlege_Occupation='Former United States National Security Advisor', count=1),\n",
       " Row(YEAR='2007', GoogleKnowlege_Occupation='Former United States Secretary of Education', count=1),\n",
       " Row(YEAR='2007', GoogleKnowlege_Occupation='Former White House Press Secretary', count=2),\n",
       " Row(YEAR='2007', GoogleKnowlege_Occupation='Freelance writer', count=1),\n",
       " Row(YEAR='2007', GoogleKnowlege_Occupation='Governor of Virginia', count=1),\n",
       " Row(YEAR='2007', GoogleKnowlege_Occupation='Historian', count=3),\n",
       " Row(YEAR='2007', GoogleKnowlege_Occupation='Journalist', count=1),\n",
       " Row(YEAR='2007', GoogleKnowlege_Occupation='Professor', count=2),\n",
       " Row(YEAR='2007', GoogleKnowlege_Occupation='Psychologist', count=1),\n",
       " Row(YEAR='2007', GoogleKnowlege_Occupation='Pundit', count=1),\n",
       " Row(YEAR='2007', GoogleKnowlege_Occupation='Reporter', count=1),\n",
       " Row(YEAR='2007', GoogleKnowlege_Occupation='Surgeon', count=1),\n",
       " Row(YEAR='2007', GoogleKnowlege_Occupation='Trumpeter', count=1),\n",
       " Row(YEAR='2007', GoogleKnowlege_Occupation='Writer', count=3),\n",
       " Row(YEAR='2007', GoogleKnowlege_Occupation='academic', count=1),\n",
       " Row(YEAR='2007', GoogleKnowlege_Occupation='activist', count=1),\n",
       " Row(YEAR='2007', GoogleKnowlege_Occupation='actor', count=15),\n",
       " Row(YEAR='2007', GoogleKnowlege_Occupation='actress', count=8),\n",
       " Row(YEAR='2007', GoogleKnowlege_Occupation='advocate', count=1),\n",
       " Row(YEAR='2007', GoogleKnowlege_Occupation='american football wide reciever', count=1),\n",
       " Row(YEAR='2007', GoogleKnowlege_Occupation='author', count=9),\n",
       " Row(YEAR='2007', GoogleKnowlege_Occupation='baseball player', count=1),\n",
       " Row(YEAR='2007', GoogleKnowlege_Occupation='basketball player', count=1),\n",
       " Row(YEAR='2007', GoogleKnowlege_Occupation='broadcaster', count=2),\n",
       " Row(YEAR='2007', GoogleKnowlege_Occupation='busines magnate', count=1),\n",
       " Row(YEAR='2007', GoogleKnowlege_Occupation='comedian', count=6),\n",
       " Row(YEAR='2007', GoogleKnowlege_Occupation='commentator', count=3),\n",
       " Row(YEAR='2007', GoogleKnowlege_Occupation='director', count=1),\n",
       " Row(YEAR='2007', GoogleKnowlege_Occupation='economist', count=1),\n",
       " Row(YEAR='2007', GoogleKnowlege_Occupation='editor', count=2),\n",
       " Row(YEAR='2007', GoogleKnowlege_Occupation='entrepreneur', count=1),\n",
       " Row(YEAR='2007', GoogleKnowlege_Occupation='former american senator', count=1),\n",
       " Row(YEAR='2007', GoogleKnowlege_Occupation='former governor of arkansas', count=1),\n",
       " Row(YEAR='2007', GoogleKnowlege_Occupation='former governor of new mexico', count=1),\n",
       " Row(YEAR='2007', GoogleKnowlege_Occupation='former vice president', count=1),\n",
       " Row(YEAR='2007', GoogleKnowlege_Occupation='former white house chief of staff', count=1),\n",
       " Row(YEAR='2007', GoogleKnowlege_Occupation='historian', count=1),\n",
       " Row(YEAR='2007', GoogleKnowlege_Occupation='journalist', count=10),\n",
       " Row(YEAR='2007', GoogleKnowlege_Occupation='law professor', count=1),\n",
       " Row(YEAR='2007', GoogleKnowlege_Occupation='lawyer', count=1),\n",
       " Row(YEAR='2007', GoogleKnowlege_Occupation='military', count=3),\n",
       " Row(YEAR='2007', GoogleKnowlege_Occupation='minister', count=1),\n",
       " Row(YEAR='2007', GoogleKnowlege_Occupation='minister of defense', count=1),\n",
       " Row(YEAR='2007', GoogleKnowlege_Occupation='musician', count=1),\n",
       " Row(YEAR='2007', GoogleKnowlege_Occupation='philosopher', count=1),\n",
       " Row(YEAR='2007', GoogleKnowlege_Occupation='physician', count=1),\n",
       " Row(YEAR='2007', GoogleKnowlege_Occupation='political consultant', count=1),\n",
       " Row(YEAR='2007', GoogleKnowlege_Occupation='political figure', count=1),\n",
       " Row(YEAR='2007', GoogleKnowlege_Occupation='president', count=2),\n",
       " Row(YEAR='2007', GoogleKnowlege_Occupation='professor', count=2),\n",
       " Row(YEAR='2007', GoogleKnowlege_Occupation='stand-up comedian', count=2),\n",
       " Row(YEAR='2007', GoogleKnowlege_Occupation='television Actor', count=1),\n",
       " Row(YEAR='2007', GoogleKnowlege_Occupation='television host', count=1),\n",
       " Row(YEAR='2007', GoogleKnowlege_Occupation='us representative', count=1),\n",
       " Row(YEAR='2007', GoogleKnowlege_Occupation='us senator', count=8),\n",
       " Row(YEAR='2007', GoogleKnowlege_Occupation='writer', count=2),\n",
       " Row(YEAR='2008', GoogleKnowlege_Occupation='0', count=2),\n",
       " Row(YEAR='2008', GoogleKnowlege_Occupation='Adviser', count=1),\n",
       " Row(YEAR='2008', GoogleKnowlege_Occupation='American football quarterback', count=1),\n",
       " Row(YEAR='2008', GoogleKnowlege_Occupation='Author', count=8),\n",
       " Row(YEAR='2008', GoogleKnowlege_Occupation='Broadcaster', count=1),\n",
       " Row(YEAR='2008', GoogleKnowlege_Occupation='Business magnate', count=1),\n",
       " Row(YEAR='2008', GoogleKnowlege_Occupation='Comedian', count=4),\n",
       " Row(YEAR='2008', GoogleKnowlege_Occupation='Consultant', count=1),\n",
       " Row(YEAR='2008', GoogleKnowlege_Occupation='Editor', count=1),\n",
       " Row(YEAR='2008', GoogleKnowlege_Occupation='Film director', count=1),\n",
       " Row(YEAR='2008', GoogleKnowlege_Occupation='First Lady of the United States', count=1),\n",
       " Row(YEAR='2008', GoogleKnowlege_Occupation='Former British Prime Minister', count=1),\n",
       " Row(YEAR='2008', GoogleKnowlege_Occupation='Former Governor of Arkansas', count=2),\n",
       " Row(YEAR='2008', GoogleKnowlege_Occupation='Former U.S. Representative', count=2),\n",
       " Row(YEAR='2008', GoogleKnowlege_Occupation='Former U.S. senator', count=1),\n",
       " Row(YEAR='2008', GoogleKnowlege_Occupation='Former United States Secretary of Labor', count=1),\n",
       " Row(YEAR='2008', GoogleKnowlege_Occupation='Former United States Secretary of State', count=1),\n",
       " Row(YEAR='2008', GoogleKnowlege_Occupation='Former White House Press Secretary', count=1),\n",
       " Row(YEAR='2008', GoogleKnowlege_Occupation='Journalist', count=9),\n",
       " Row(YEAR='2008', GoogleKnowlege_Occupation='NA', count=1),\n",
       " Row(YEAR='2008', GoogleKnowlege_Occupation='Neuroscientist', count=1),\n",
       " Row(YEAR='2008', GoogleKnowlege_Occupation='Political satirist', count=1),\n",
       " Row(YEAR='2008', GoogleKnowlege_Occupation='Stand-up comedian', count=1),\n",
       " Row(YEAR='2008', GoogleKnowlege_Occupation='United States Senator', count=1),\n",
       " Row(YEAR='2008', GoogleKnowlege_Occupation='Writer', count=1),\n",
       " Row(YEAR='2008', GoogleKnowlege_Occupation='activist', count=2),\n",
       " Row(YEAR='2008', GoogleKnowlege_Occupation='actor', count=20),\n",
       " Row(YEAR='2008', GoogleKnowlege_Occupation='actress', count=4),\n",
       " Row(YEAR='2008', GoogleKnowlege_Occupation='analyst', count=1),\n",
       " Row(YEAR='2008', GoogleKnowlege_Occupation='attorney', count=1),\n",
       " Row(YEAR='2008', GoogleKnowlege_Occupation='author', count=11),\n",
       " Row(YEAR='2008', GoogleKnowlege_Occupation='author of novels', count=1),\n",
       " Row(YEAR='2008', GoogleKnowlege_Occupation='biographer', count=2),\n",
       " Row(YEAR='2008', GoogleKnowlege_Occupation='broadcaster', count=1),\n",
       " Row(YEAR='2008', GoogleKnowlege_Occupation='columnist', count=1),\n",
       " Row(YEAR='2008', GoogleKnowlege_Occupation='comedian', count=2),\n",
       " Row(YEAR='2008', GoogleKnowlege_Occupation='commentator', count=3),\n",
       " Row(YEAR='2008', GoogleKnowlege_Occupation='consultant', count=1),\n",
       " Row(YEAR='2008', GoogleKnowlege_Occupation='correspondent', count=1),\n",
       " Row(YEAR='2008', GoogleKnowlege_Occupation='director', count=1),\n",
       " Row(YEAR='2008', GoogleKnowlege_Occupation='economist', count=1),\n",
       " Row(YEAR='2008', GoogleKnowlege_Occupation='editor', count=3),\n",
       " Row(YEAR='2008', GoogleKnowlege_Occupation='film actor', count=1),\n",
       " Row(YEAR='2008', GoogleKnowlege_Occupation='former governor of vermont', count=2),\n",
       " Row(YEAR='2008', GoogleKnowlege_Occupation='former majority leader', count=1),\n",
       " Row(YEAR='2008', GoogleKnowlege_Occupation='former senator', count=1),\n",
       " Row(YEAR='2008', GoogleKnowlege_Occupation='former speaker of the the house', count=1),\n",
       " Row(YEAR='2008', GoogleKnowlege_Occupation='former us secretary of state', count=1),\n",
       " Row(YEAR='2008', GoogleKnowlege_Occupation='former us senator', count=4),\n",
       " Row(YEAR='2008', GoogleKnowlege_Occupation='former white house press secretary', count=3),\n",
       " Row(YEAR='2008', GoogleKnowlege_Occupation='humorist', count=1),\n",
       " Row(YEAR='2008', GoogleKnowlege_Occupation='journalist', count=19),\n",
       " Row(YEAR='2008', GoogleKnowlege_Occupation='law professor', count=1),\n",
       " Row(YEAR='2008', GoogleKnowlege_Occupation='lawyer', count=1),\n",
       " Row(YEAR='2008', GoogleKnowlege_Occupation='military', count=1),\n",
       " Row(YEAR='2008', GoogleKnowlege_Occupation='political advocate', count=1),\n",
       " Row(YEAR='2008', GoogleKnowlege_Occupation='presidnet', count=1),\n",
       " Row(YEAR='2008', GoogleKnowlege_Occupation='professor', count=2),\n",
       " Row(YEAR='2008', GoogleKnowlege_Occupation='reporter', count=1),\n",
       " Row(YEAR='2008', GoogleKnowlege_Occupation='rock band', count=1),\n",
       " Row(YEAR='2008', GoogleKnowlege_Occupation='screenwriter', count=1),\n",
       " Row(YEAR='2008', GoogleKnowlege_Occupation='security expert', count=1),\n",
       " Row(YEAR='2008', GoogleKnowlege_Occupation='television Actor', count=1),\n",
       " Row(YEAR='2008', GoogleKnowlege_Occupation='television host', count=6),\n",
       " Row(YEAR='2008', GoogleKnowlege_Occupation='television personality', count=1),\n",
       " Row(YEAR='2008', GoogleKnowlege_Occupation='university professor', count=1),\n",
       " Row(YEAR='2008', GoogleKnowlege_Occupation='us president', count=3),\n",
       " Row(YEAR='2008', GoogleKnowlege_Occupation='us secretary of defense', count=1),\n",
       " Row(YEAR='2008', GoogleKnowlege_Occupation='us senator', count=2),\n",
       " Row(YEAR='2008', GoogleKnowlege_Occupation='writer', count=2),\n",
       " Row(YEAR='2009', GoogleKnowlege_Occupation='Academic', count=1),\n",
       " Row(YEAR='2009', GoogleKnowlege_Occupation='Astrophysicist', count=1),\n",
       " Row(YEAR='2009', GoogleKnowlege_Occupation='Author', count=6),\n",
       " Row(YEAR='2009', GoogleKnowlege_Occupation='Band', count=1),\n",
       " Row(YEAR='2009', GoogleKnowlege_Occupation='Baseball athlete', count=1),\n",
       " Row(YEAR='2009', GoogleKnowlege_Occupation='Businessman', count=1),\n",
       " Row(YEAR='2009', GoogleKnowlege_Occupation='Comedian', count=4),\n",
       " Row(YEAR='2009', GoogleKnowlege_Occupation='Consultant', count=1),\n",
       " Row(YEAR='2009', GoogleKnowlege_Occupation='EPA administrator', count=1),\n",
       " Row(YEAR='2009', GoogleKnowlege_Occupation='Entrepreneur', count=1),\n",
       " Row(YEAR='2009', GoogleKnowlege_Occupation='Financier', count=1),\n",
       " Row(YEAR='2009', GoogleKnowlege_Occupation='Former Associate Justice of the Supreme Court of the United States', count=1),\n",
       " Row(YEAR='2009', GoogleKnowlege_Occupation='Former Director of the Office of Management and Budget', count=1),\n",
       " Row(YEAR='2009', GoogleKnowlege_Occupation='Former Governor of Arkansas', count=2),\n",
       " Row(YEAR='2009', GoogleKnowlege_Occupation='Former Governor of Illinois', count=1),\n",
       " Row(YEAR='2009', GoogleKnowlege_Occupation='Former Governor of Pennsylvania', count=1),\n",
       " Row(YEAR='2009', GoogleKnowlege_Occupation='Former U.S. Congressman', count=1),\n",
       " Row(YEAR='2009', GoogleKnowlege_Occupation='Former U.S. Representative', count=1),\n",
       " Row(YEAR='2009', GoogleKnowlege_Occupation='Former United States Secretary of Energy', count=1),\n",
       " Row(YEAR='2009', GoogleKnowlege_Occupation='Former United States Secretary of Transportation', count=1),\n",
       " Row(YEAR='2009', GoogleKnowlege_Occupation='Former United States Secretary of the Interior', count=1),\n",
       " Row(YEAR='2009', GoogleKnowlege_Occupation='Former United States Senator', count=1),\n",
       " Row(YEAR='2009', GoogleKnowlege_Occupation='Historian', count=1),\n",
       " Row(YEAR='2009', GoogleKnowlege_Occupation='Innovator', count=1),\n",
       " Row(YEAR='2009', GoogleKnowlege_Occupation='JOURNALIST', count=1),\n",
       " Row(YEAR='2009', GoogleKnowlege_Occupation='Journalist', count=4),\n",
       " Row(YEAR='2009', GoogleKnowlege_Occupation='Minority Leader of the United States House of Representatives', count=1),\n",
       " Row(YEAR='2009', GoogleKnowlege_Occupation='Neurologist', count=1),\n",
       " Row(YEAR='2009', GoogleKnowlege_Occupation='Political Scientist', count=1),\n",
       " Row(YEAR='2009', GoogleKnowlege_Occupation='Political satirist', count=1),\n",
       " Row(YEAR='2009', GoogleKnowlege_Occupation='Professional Road Racing Cyclist', count=1),\n",
       " Row(YEAR='2009', GoogleKnowlege_Occupation='Professor', count=2),\n",
       " Row(YEAR='2009', GoogleKnowlege_Occupation='Racing driver', count=1),\n",
       " Row(YEAR='2009', GoogleKnowlege_Occupation='Screenwriter', count=1),\n",
       " Row(YEAR='2009', GoogleKnowlege_Occupation='Sports Columnist', count=1),\n",
       " Row(YEAR='2009', GoogleKnowlege_Occupation='Stand-up comedian', count=1),\n",
       " Row(YEAR='2009', GoogleKnowlege_Occupation='Tennis player', count=1),\n",
       " Row(YEAR='2009', GoogleKnowlege_Occupation='United States Ambassador to the United Nations', count=1),\n",
       " Row(YEAR='2009', GoogleKnowlege_Occupation='United States Secretary of the Navy', count=1),\n",
       " Row(YEAR='2009', GoogleKnowlege_Occupation='Writer', count=3),\n",
       " Row(YEAR='2009', GoogleKnowlege_Occupation='activist', count=1),\n",
       " Row(YEAR='2009', GoogleKnowlege_Occupation='actor', count=19),\n",
       " Row(YEAR='2009', GoogleKnowlege_Occupation='actress', count=3),\n",
       " Row(YEAR='2009', GoogleKnowlege_Occupation='american politician', count=1),\n",
       " Row(YEAR='2009', GoogleKnowlege_Occupation='attorney', count=1),\n",
       " Row(YEAR='2009', GoogleKnowlege_Occupation='author', count=11),\n",
       " Row(YEAR='2009', GoogleKnowlege_Occupation='aviator', count=1),\n",
       " Row(YEAR='2009', GoogleKnowlege_Occupation='basketball player', count=2),\n",
       " Row(YEAR='2009', GoogleKnowlege_Occupation='biographer', count=1),\n",
       " Row(YEAR='2009', GoogleKnowlege_Occupation='business magnate', count=1),\n",
       " Row(YEAR='2009', GoogleKnowlege_Occupation='canon', count=1),\n",
       " Row(YEAR='2009', GoogleKnowlege_Occupation='comedian', count=1),\n",
       " Row(YEAR='2009', GoogleKnowlege_Occupation='commentator', count=3),\n",
       " Row(YEAR='2009', GoogleKnowlege_Occupation='correspondent', count=1),\n",
       " Row(YEAR='2009', GoogleKnowlege_Occupation='economist', count=2),\n",
       " Row(YEAR='2009', GoogleKnowlege_Occupation='editor', count=1),\n",
       " Row(YEAR='2009', GoogleKnowlege_Occupation='first lady of egypt', count=1),\n",
       " Row(YEAR='2009', GoogleKnowlege_Occupation='former director of the national economic counscil', count=1),\n",
       " Row(YEAR='2009', GoogleKnowlege_Occupation='former governor of arizona', count=1),\n",
       " Row(YEAR='2009', GoogleKnowlege_Occupation='former governor of new hampshire', count=1),\n",
       " Row(YEAR='2009', GoogleKnowlege_Occupation='former hhs secretary', count=1),\n",
       " Row(YEAR='2009', GoogleKnowlege_Occupation='former us representative', count=2),\n",
       " Row(YEAR='2009', GoogleKnowlege_Occupation='former vice president', count=1),\n",
       " Row(YEAR='2009', GoogleKnowlege_Occupation='former white house press secretary', count=1),\n",
       " Row(YEAR='2009', GoogleKnowlege_Occupation='journalist', count=17),\n",
       " Row(YEAR='2009', GoogleKnowlege_Occupation='lawyer', count=2),\n",
       " Row(YEAR='2009', GoogleKnowlege_Occupation='military', count=1),\n",
       " Row(YEAR='2009', GoogleKnowlege_Occupation='musician', count=2),\n",
       " Row(YEAR='2009', GoogleKnowlege_Occupation='political strategist', count=1),\n",
       " Row(YEAR='2009', GoogleKnowlege_Occupation='president', count=1),\n",
       " Row(YEAR='2009', GoogleKnowlege_Occupation='president of liberia', count=1),\n",
       " Row(YEAR='2009', GoogleKnowlege_Occupation='presidnet', count=1),\n",
       " Row(YEAR='2009', GoogleKnowlege_Occupation='primatologist', count=1),\n",
       " Row(YEAR='2009', GoogleKnowlege_Occupation='professor', count=3),\n",
       " Row(YEAR='2009', GoogleKnowlege_Occupation='public speaker', count=1),\n",
       " Row(YEAR='2009', GoogleKnowlege_Occupation='rock band', count=1),\n",
       " Row(YEAR='2009', GoogleKnowlege_Occupation='scholar', count=1),\n",
       " Row(YEAR='2009', GoogleKnowlege_Occupation='scientist', count=1),\n",
       " Row(YEAR='2009', GoogleKnowlege_Occupation='screenwriter', count=1),\n",
       " Row(YEAR='2009', GoogleKnowlege_Occupation='singer', count=1),\n",
       " Row(YEAR='2009', GoogleKnowlege_Occupation='stand-up comedian', count=1),\n",
       " Row(YEAR='2009', GoogleKnowlege_Occupation='swimmer', count=1),\n",
       " Row(YEAR='2009', GoogleKnowlege_Occupation='television host', count=4),\n",
       " Row(YEAR='2009', GoogleKnowlege_Occupation='television personality', count=2),\n",
       " Row(YEAR='2009', GoogleKnowlege_Occupation='us senator', count=2),\n",
       " Row(YEAR='2009', GoogleKnowlege_Occupation='vice president', count=1),\n",
       " Row(YEAR='2009', GoogleKnowlege_Occupation='white house sommunications director', count=1),\n",
       " Row(YEAR='2009', GoogleKnowlege_Occupation='writer', count=1),\n",
       " Row(YEAR='2010', GoogleKnowlege_Occupation='Astrophysicist', count=1),\n",
       " Row(YEAR='2010', GoogleKnowlege_Occupation='Author', count=8),\n",
       " Row(YEAR='2010', GoogleKnowlege_Occupation='Baseball player', count=1),\n",
       " Row(YEAR='2010', GoogleKnowlege_Occupation='Chef', count=1),\n",
       " Row(YEAR='2010', GoogleKnowlege_Occupation='Columnist', count=1),\n",
       " Row(YEAR='2010', GoogleKnowlege_Occupation='Comedian', count=2),\n",
       " Row(YEAR='2010', GoogleKnowlege_Occupation='Consultant', count=1),\n",
       " Row(YEAR='2010', GoogleKnowlege_Occupation='Diplomat', count=1),\n",
       " Row(YEAR='2010', GoogleKnowlege_Occupation='Director', count=1),\n",
       " Row(YEAR='2010', GoogleKnowlege_Occupation='EPA administrator', count=1),\n",
       " Row(YEAR='2010', GoogleKnowlege_Occupation='Editor', count=1),\n",
       " Row(YEAR='2010', GoogleKnowlege_Occupation='Former British Prime Minister', count=1),\n",
       " Row(YEAR='2010', GoogleKnowlege_Occupation='Former First Lady of the United States', count=1),\n",
       " Row(YEAR='2010', GoogleKnowlege_Occupation='Former Governor of Arkansas', count=1),\n",
       " Row(YEAR='2010', GoogleKnowlege_Occupation='Former Governor of Illinois', count=1),\n",
       " Row(YEAR='2010', GoogleKnowlege_Occupation='Former Governor of Minnesota', count=1),\n",
       " Row(YEAR='2010', GoogleKnowlege_Occupation='Former Governor of Texas', count=1),\n",
       " Row(YEAR='2010', GoogleKnowlege_Occupation='Former Mayor of Cincinnati', count=1),\n",
       " Row(YEAR='2010', GoogleKnowlege_Occupation='Former Mayor of New York City', count=1),\n",
       " Row(YEAR='2010', GoogleKnowlege_Occupation='Former U.S. Representative', count=1),\n",
       " Row(YEAR='2010', GoogleKnowlege_Occupation='Former United States Senator', count=1),\n",
       " Row(YEAR='2010', GoogleKnowlege_Occupation='Geneticist', count=1),\n",
       " Row(YEAR='2010', GoogleKnowlege_Occupation='Historian', count=1),\n",
       " Row(YEAR='2010', GoogleKnowlege_Occupation='Journalist', count=3),\n",
       " Row(YEAR='2010', GoogleKnowlege_Occupation='Lawyer', count=1),\n",
       " Row(YEAR='2010', GoogleKnowlege_Occupation='NA', count=1),\n",
       " Row(YEAR='2010', GoogleKnowlege_Occupation='Novelist', count=1),\n",
       " Row(YEAR='2010', GoogleKnowlege_Occupation='Professional Wrestler', count=1),\n",
       " Row(YEAR='2010', GoogleKnowlege_Occupation='Professor', count=1),\n",
       " Row(YEAR='2010', GoogleKnowlege_Occupation='Stand-up comedian', count=1),\n",
       " Row(YEAR='2010', GoogleKnowlege_Occupation='Track and field athlete', count=1),\n",
       " Row(YEAR='2010', GoogleKnowlege_Occupation='United States Senator', count=1),\n",
       " Row(YEAR='2010', GoogleKnowlege_Occupation='Writer', count=2),\n",
       " Row(YEAR='2010', GoogleKnowlege_Occupation='accountant', count=1),\n",
       " Row(YEAR='2010', GoogleKnowlege_Occupation='actor', count=30),\n",
       " Row(YEAR='2010', GoogleKnowlege_Occupation='actress', count=14),\n",
       " Row(YEAR='2010', GoogleKnowlege_Occupation='aei president', count=1),\n",
       " Row(YEAR='2010', GoogleKnowlege_Occupation='author', count=8),\n",
       " Row(YEAR='2010', GoogleKnowlege_Occupation='biographer', count=1),\n",
       " Row(YEAR='2010', GoogleKnowlege_Occupation='busines magnate', count=1),\n",
       " Row(YEAR='2010', GoogleKnowlege_Occupation='comedian', count=4),\n",
       " Row(YEAR='2010', GoogleKnowlege_Occupation='comptroller of the us', count=1),\n",
       " Row(YEAR='2010', GoogleKnowlege_Occupation='economist', count=2),\n",
       " Row(YEAR='2010', GoogleKnowlege_Occupation='editor', count=2),\n",
       " Row(YEAR='2010', GoogleKnowlege_Occupation='film director', count=2),\n",
       " Row(YEAR='2010', GoogleKnowlege_Occupation='former british prime minister', count=1),\n",
       " Row(YEAR='2010', GoogleKnowlege_Occupation='former governor of washington', count=1),\n",
       " Row(YEAR='2010', GoogleKnowlege_Occupation='former mjority leader', count=1),\n",
       " Row(YEAR='2010', GoogleKnowlege_Occupation='former senior advisor to the presidnet', count=1),\n",
       " Row(YEAR='2010', GoogleKnowlege_Occupation='former us representative', count=2),\n",
       " Row(YEAR='2010', GoogleKnowlege_Occupation='former us secretary of state', count=1),\n",
       " Row(YEAR='2010', GoogleKnowlege_Occupation='former us senator', count=1),\n",
       " Row(YEAR='2010', GoogleKnowlege_Occupation='historian', count=1),\n",
       " Row(YEAR='2010', GoogleKnowlege_Occupation='humorist', count=1),\n",
       " Row(YEAR='2010', GoogleKnowlege_Occupation='investment banker', count=1),\n",
       " Row(YEAR='2010', GoogleKnowlege_Occupation='journalist', count=10),\n",
       " Row(YEAR='2010', GoogleKnowlege_Occupation='king', count=1),\n",
       " Row(YEAR='2010', GoogleKnowlege_Occupation='lawyer', count=1),\n",
       " Row(YEAR='2010', GoogleKnowlege_Occupation='military', count=1),\n",
       " Row(YEAR='2010', GoogleKnowlege_Occupation='military officer', count=1),\n",
       " Row(YEAR='2010', GoogleKnowlege_Occupation='musician', count=2),\n",
       " Row(YEAR='2010', GoogleKnowlege_Occupation='physician', count=1),\n",
       " Row(YEAR='2010', GoogleKnowlege_Occupation='political scientist', count=1),\n",
       " Row(YEAR='2010', GoogleKnowlege_Occupation='president', count=2),\n",
       " Row(YEAR='2010', GoogleKnowlege_Occupation='presidnet', count=1),\n",
       " Row(YEAR='2010', GoogleKnowlege_Occupation='professor', count=1),\n",
       " Row(YEAR='2010', GoogleKnowlege_Occupation='rapper', count=1),\n",
       " Row(YEAR='2010', GoogleKnowlege_Occupation='rock band', count=2),\n",
       " Row(YEAR='2010', GoogleKnowlege_Occupation='singer-songwriter', count=1),\n",
       " Row(YEAR='2010', GoogleKnowlege_Occupation='soccer manager', count=1),\n",
       " Row(YEAR='2010', GoogleKnowlege_Occupation='soccer player', count=1),\n",
       " Row(YEAR='2010', GoogleKnowlege_Occupation='stunt perfomrer', count=1),\n",
       " Row(YEAR='2010', GoogleKnowlege_Occupation='surgeon', count=1),\n",
       " Row(YEAR='2010', GoogleKnowlege_Occupation='television host', count=4),\n",
       " Row(YEAR='2010', GoogleKnowlege_Occupation='university professor', count=1),\n",
       " Row(YEAR='2010', GoogleKnowlege_Occupation='us representative', count=2),\n",
       " Row(YEAR='2010', GoogleKnowlege_Occupation='us senator', count=1),\n",
       " Row(YEAR='2010', GoogleKnowlege_Occupation='writer', count=5),\n",
       " Row(YEAR='2011', GoogleKnowlege_Occupation='ADMIRAL', count=2),\n",
       " Row(YEAR='2011', GoogleKnowlege_Occupation='American football quarterback', count=1),\n",
       " Row(YEAR='2011', GoogleKnowlege_Occupation='Astronaut', count=1),\n",
       " Row(YEAR='2011', GoogleKnowlege_Occupation='Astrophysicist', count=1),\n",
       " Row(YEAR='2011', GoogleKnowlege_Occupation='Author', count=3),\n",
       " Row(YEAR='2011', GoogleKnowlege_Occupation='Baseball player', count=1),\n",
       " Row(YEAR='2011', GoogleKnowlege_Occupation='Broadcaster', count=1),\n",
       " Row(YEAR='2011', GoogleKnowlege_Occupation='Business magnate', count=1),\n",
       " Row(YEAR='2011', GoogleKnowlege_Occupation='Comedian', count=2),\n",
       " Row(YEAR='2011', GoogleKnowlege_Occupation='Diplomat', count=1),\n",
       " Row(YEAR='2011', GoogleKnowlege_Occupation='Director', count=1),\n",
       " Row(YEAR='2011', GoogleKnowlege_Occupation='EPA administrator', count=1),\n",
       " Row(YEAR='2011', GoogleKnowlege_Occupation='Economist', count=1),\n",
       " Row(YEAR='2011', GoogleKnowlege_Occupation='Film actress', count=1),\n",
       " Row(YEAR='2011', GoogleKnowlege_Occupation='Film director', count=1),\n",
       " Row(YEAR='2011', GoogleKnowlege_Occupation='Former Governor of Arkansas', count=1),\n",
       " Row(YEAR='2011', GoogleKnowlege_Occupation='Former Governor of Indiana', count=1),\n",
       " Row(YEAR='2011', GoogleKnowlege_Occupation='Former Governor of Minnesota', count=1),\n",
       " Row(YEAR='2011', GoogleKnowlege_Occupation='Former Lieutenant Governor of Maryland', count=2),\n",
       " Row(YEAR='2011', GoogleKnowlege_Occupation='Former Mayor of New Orleans', count=1),\n",
       " Row(YEAR='2011', GoogleKnowlege_Occupation='Former President of Pakistan', count=1),\n",
       " Row(YEAR='2011', GoogleKnowlege_Occupation='Former U.S. Congressman', count=1),\n",
       " Row(YEAR='2011', GoogleKnowlege_Occupation='Historian', count=1),\n",
       " Row(YEAR='2011', GoogleKnowlege_Occupation='Journalist', count=5),\n",
       " Row(YEAR='2011', GoogleKnowlege_Occupation='Lawyer', count=1),\n",
       " Row(YEAR='2011', GoogleKnowlege_Occupation='Minority Leader of the United States House of Representatives', count=1),\n",
       " Row(YEAR='2011', GoogleKnowlege_Occupation='Professor', count=1),\n",
       " Row(YEAR='2011', GoogleKnowlege_Occupation='Puppeteer', count=1),\n",
       " Row(YEAR='2011', GoogleKnowlege_Occupation='Singer', count=2),\n",
       " Row(YEAR='2011', GoogleKnowlege_Occupation='Stand-up comedian', count=2),\n",
       " Row(YEAR='2011', GoogleKnowlege_Occupation='United States Senate member', count=1),\n",
       " Row(YEAR='2011', GoogleKnowlege_Occupation='United States Senator', count=1),\n",
       " Row(YEAR='2011', GoogleKnowlege_Occupation='Writer', count=1),\n",
       " Row(YEAR='2011', GoogleKnowlege_Occupation='academic', count=1),\n",
       " Row(YEAR='2011', GoogleKnowlege_Occupation='actor', count=29),\n",
       " Row(YEAR='2011', GoogleKnowlege_Occupation='actress', count=10),\n",
       " Row(YEAR='2011', GoogleKnowlege_Occupation='author', count=7),\n",
       " Row(YEAR='2011', GoogleKnowlege_Occupation='biographer', count=1),\n",
       " Row(YEAR='2011', GoogleKnowlege_Occupation='busines magnate', count=1),\n",
       " Row(YEAR='2011', GoogleKnowlege_Occupation='celbrity chef', count=1),\n",
       " Row(YEAR='2011', GoogleKnowlege_Occupation='chef', count=1),\n",
       " Row(YEAR='2011', GoogleKnowlege_Occupation='comedian', count=2),\n",
       " Row(YEAR='2011', GoogleKnowlege_Occupation='commentator', count=1),\n",
       " Row(YEAR='2011', GoogleKnowlege_Occupation='director', count=1),\n",
       " Row(YEAR='2011', GoogleKnowlege_Occupation='economist', count=3),\n",
       " Row(YEAR='2011', GoogleKnowlege_Occupation='editor', count=1),\n",
       " Row(YEAR='2011', GoogleKnowlege_Occupation='film actor', count=1),\n",
       " Row(YEAR='2011', GoogleKnowlege_Occupation='film actress', count=1),\n",
       " Row(YEAR='2011', GoogleKnowlege_Occupation='former governor of louisiana', count=1),\n",
       " Row(YEAR='2011', GoogleKnowlege_Occupation='former governor of massachusetts', count=1),\n",
       " Row(YEAR='2011', GoogleKnowlege_Occupation='former governor of michigan', count=1),\n",
       " Row(YEAR='2011', GoogleKnowlege_Occupation='former secretary of defense', count=1),\n",
       " Row(YEAR='2011', GoogleKnowlege_Occupation='former us secretary of state', count=1),\n",
       " Row(YEAR='2011', GoogleKnowlege_Occupation='former white house press secretary', count=1),\n",
       " Row(YEAR='2011', GoogleKnowlege_Occupation='hip-hop artist', count=1),\n",
       " Row(YEAR='2011', GoogleKnowlege_Occupation='historian', count=1),\n",
       " Row(YEAR='2011', GoogleKnowlege_Occupation='internet entrepreneur', count=1),\n",
       " Row(YEAR='2011', GoogleKnowlege_Occupation='journalist', count=17),\n",
       " Row(YEAR='2011', GoogleKnowlege_Occupation='lawyer', count=1),\n",
       " Row(YEAR='2011', GoogleKnowlege_Occupation='legal analyst', count=1),\n",
       " Row(YEAR='2011', GoogleKnowlege_Occupation='military', count=1),\n",
       " Row(YEAR='2011', GoogleKnowlege_Occupation='minister', count=1),\n",
       " Row(YEAR='2011', GoogleKnowlege_Occupation='neurosurgeon', count=1),\n",
       " Row(YEAR='2011', GoogleKnowlege_Occupation='news anchor', count=1),\n",
       " Row(YEAR='2011', GoogleKnowlege_Occupation='peace activist', count=1),\n",
       " Row(YEAR='2011', GoogleKnowlege_Occupation='photojournalist', count=1),\n",
       " Row(YEAR='2011', GoogleKnowlege_Occupation='physician', count=1),\n",
       " Row(YEAR='2011', GoogleKnowlege_Occupation='physicist', count=1),\n",
       " Row(YEAR='2011', GoogleKnowlege_Occupation='political figure', count=2),\n",
       " Row(YEAR='2011', GoogleKnowlege_Occupation='political satirist', count=1),\n",
       " Row(YEAR='2011', GoogleKnowlege_Occupation='prince', count=1),\n",
       " Row(YEAR='2011', GoogleKnowlege_Occupation='professor', count=2),\n",
       " Row(YEAR='2011', GoogleKnowlege_Occupation='radio personality', count=1),\n",
       " Row(YEAR='2011', GoogleKnowlege_Occupation='rock band', count=1),\n",
       " Row(YEAR='2011', GoogleKnowlege_Occupation='singer-songwriter', count=2),\n",
       " Row(YEAR='2011', GoogleKnowlege_Occupation='sportscaster', count=1),\n",
       " Row(YEAR='2011', GoogleKnowlege_Occupation='stand-up comedian', count=1),\n",
       " Row(YEAR='2011', GoogleKnowlege_Occupation='television host', count=4),\n",
       " Row(YEAR='2011', GoogleKnowlege_Occupation='us official', count=1),\n",
       " Row(YEAR='2011', GoogleKnowlege_Occupation='us president', count=1),\n",
       " Row(YEAR='2011', GoogleKnowlege_Occupation='us senator', count=3),\n",
       " Row(YEAR='2011', GoogleKnowlege_Occupation='writer', count=1),\n",
       " Row(YEAR='2012', GoogleKnowlege_Occupation='AUTHOR', count=2),\n",
       " Row(YEAR='2012', GoogleKnowlege_Occupation='American football wide receiver', count=1),\n",
       " Row(YEAR='2012', GoogleKnowlege_Occupation='Astrophysicist', count=1),\n",
       " Row(YEAR='2012', GoogleKnowlege_Occupation='Attorney', count=1),\n",
       " Row(YEAR='2012', GoogleKnowlege_Occupation='Author', count=3),\n",
       " Row(YEAR='2012', GoogleKnowlege_Occupation='Baseball player', count=1),\n",
       " Row(YEAR='2012', GoogleKnowlege_Occupation='Basketball player', count=2),\n",
       " Row(YEAR='2012', GoogleKnowlege_Occupation='Beach Volleyball Player', count=1),\n",
       " Row(YEAR='2012', GoogleKnowlege_Occupation='Broadcaster', count=1),\n",
       " Row(YEAR='2012', GoogleKnowlege_Occupation='CHARACTER', count=1),\n",
       " Row(YEAR='2012', GoogleKnowlege_Occupation='Comedian', count=2),\n",
       " Row(YEAR='2012', GoogleKnowlege_Occupation='Consultant', count=1),\n",
       " Row(YEAR='2012', GoogleKnowlege_Occupation='Diplomat', count=1),\n",
       " Row(YEAR='2012', GoogleKnowlege_Occupation='Film actress', count=1),\n",
       " Row(YEAR='2012', GoogleKnowlege_Occupation='Film director', count=1),\n",
       " Row(YEAR='2012', GoogleKnowlege_Occupation='Former Governor of Arkansas', count=1),\n",
       " Row(YEAR='2012', GoogleKnowlege_Occupation='Former Lieutenant Governor of Maryland', count=1),\n",
       " Row(YEAR='2012', GoogleKnowlege_Occupation='Former President of the Maldives', count=1),\n",
       " Row(YEAR='2012', GoogleKnowlege_Occupation='Former U.S. senator', count=1),\n",
       " Row(YEAR='2012', GoogleKnowlege_Occupation='Former United States Secretary of Labor', count=1),\n",
       " Row(YEAR='2012', GoogleKnowlege_Occupation='Former United States Secretary of State', count=1),\n",
       " Row(YEAR='2012', GoogleKnowlege_Occupation='Freelance writer', count=1),\n",
       " Row(YEAR='2012', GoogleKnowlege_Occupation='Journalist', count=5),\n",
       " Row(YEAR='2012', GoogleKnowlege_Occupation='Minority Leader of the United States House of Representatives', count=1),\n",
       " Row(YEAR='2012', GoogleKnowlege_Occupation='Musician', count=1),\n",
       " Row(YEAR='2012', GoogleKnowlege_Occupation='NA', count=4),\n",
       " Row(YEAR='2012', GoogleKnowlege_Occupation='Novelist', count=1),\n",
       " Row(YEAR='2012', GoogleKnowlege_Occupation='Product line', count=1),\n",
       " Row(YEAR='2012', GoogleKnowlege_Occupation='Reporter', count=2),\n",
       " Row(YEAR='2012', GoogleKnowlege_Occupation='Rock duo', count=1),\n",
       " Row(YEAR='2012', GoogleKnowlege_Occupation='Singer-songwriter', count=1),\n",
       " Row(YEAR='2012', GoogleKnowlege_Occupation='Stand-up comedian', count=1),\n",
       " Row(YEAR='2012', GoogleKnowlege_Occupation='Statistician', count=2),\n",
       " Row(YEAR='2012', GoogleKnowlege_Occupation='United States Secretary of Housing and Urban Development', count=1),\n",
       " Row(YEAR='2012', GoogleKnowlege_Occupation='United States Senate member', count=1),\n",
       " Row(YEAR='2012', GoogleKnowlege_Occupation='United States Senator', count=3),\n",
       " Row(YEAR='2012', GoogleKnowlege_Occupation='Writer', count=2),\n",
       " Row(YEAR='2012', GoogleKnowlege_Occupation='activist', count=1),\n",
       " Row(YEAR='2012', GoogleKnowlege_Occupation='actor', count=20),\n",
       " Row(YEAR='2012', GoogleKnowlege_Occupation='actress', count=12),\n",
       " Row(YEAR='2012', GoogleKnowlege_Occupation='author', count=12),\n",
       " Row(YEAR='2012', GoogleKnowlege_Occupation='basketball player', count=2),\n",
       " Row(YEAR='2012', GoogleKnowlege_Occupation='bassist', count=1),\n",
       " Row(YEAR='2012', GoogleKnowlege_Occupation='business magnate', count=2),\n",
       " Row(YEAR='2012', GoogleKnowlege_Occupation='business person', count=1),\n",
       " Row(YEAR='2012', GoogleKnowlege_Occupation='canon', count=1),\n",
       " Row(YEAR='2012', GoogleKnowlege_Occupation='chef', count=1),\n",
       " Row(YEAR='2012', GoogleKnowlege_Occupation='chess player', count=1),\n",
       " Row(YEAR='2012', GoogleKnowlege_Occupation='comedian', count=2),\n",
       " Row(YEAR='2012', GoogleKnowlege_Occupation='correspondent', count=1),\n",
       " Row(YEAR='2012', GoogleKnowlege_Occupation='economist', count=3),\n",
       " Row(YEAR='2012', GoogleKnowlege_Occupation='editor', count=1),\n",
       " Row(YEAR='2012', GoogleKnowlege_Occupation='fbi agent', count=1),\n",
       " Row(YEAR='2012', GoogleKnowlege_Occupation='film director', count=2),\n",
       " Row(YEAR='2012', GoogleKnowlege_Occupation='first lady', count=1),\n",
       " Row(YEAR='2012', GoogleKnowlege_Occupation='former governor of california', count=1),\n",
       " Row(YEAR='2012', GoogleKnowlege_Occupation='former governor of new mexico', count=1),\n",
       " Row(YEAR='2012', GoogleKnowlege_Occupation='former hhs secretary', count=1),\n",
       " Row(YEAR='2012', GoogleKnowlege_Occupation='former us secretary of defense', count=1),\n",
       " Row(YEAR='2012', GoogleKnowlege_Occupation='former us senator', count=2),\n",
       " Row(YEAR='2012', GoogleKnowlege_Occupation='governor of new jersey', count=1),\n",
       " Row(YEAR='2012', GoogleKnowlege_Occupation='historian', count=2),\n",
       " Row(YEAR='2012', GoogleKnowlege_Occupation='journalist', count=11),\n",
       " Row(YEAR='2012', GoogleKnowlege_Occupation='king', count=1),\n",
       " Row(YEAR='2012', GoogleKnowlege_Occupation='law professor', count=1),\n",
       " Row(YEAR='2012', GoogleKnowlege_Occupation='legal analyst', count=2),\n",
       " Row(YEAR='2012', GoogleKnowlege_Occupation='mayor of london', count=1),\n",
       " Row(YEAR='2012', GoogleKnowlege_Occupation='military', count=1),\n",
       " Row(YEAR='2012', GoogleKnowlege_Occupation='political advocate', count=1),\n",
       " Row(YEAR='2012', GoogleKnowlege_Occupation='president', count=1),\n",
       " Row(YEAR='2012', GoogleKnowlege_Occupation='priest', count=1),\n",
       " Row(YEAR='2012', GoogleKnowlege_Occupation='primatologist', count=1),\n",
       " Row(YEAR='2012', GoogleKnowlege_Occupation='professor', count=2),\n",
       " Row(YEAR='2012', GoogleKnowlege_Occupation='satirist', count=1),\n",
       " Row(YEAR='2012', GoogleKnowlege_Occupation='singer-songwriter', count=1),\n",
       " Row(YEAR='2012', GoogleKnowlege_Occupation='television Series Creator', count=1),\n",
       " Row(YEAR='2012', GoogleKnowlege_Occupation='television host', count=2),\n",
       " Row(YEAR='2012', GoogleKnowlege_Occupation='television personality', count=1),\n",
       " Row(YEAR='2012', GoogleKnowlege_Occupation='us permanent representative to nato', count=1),\n",
       " Row(YEAR='2012', GoogleKnowlege_Occupation='us president', count=1),\n",
       " Row(YEAR='2012', GoogleKnowlege_Occupation='us representative', count=1),\n",
       " Row(YEAR='2012', GoogleKnowlege_Occupation='us secetary of education', count=1),\n",
       " Row(YEAR='2012', GoogleKnowlege_Occupation='us senator', count=3),\n",
       " Row(YEAR='2013', GoogleKnowlege_Occupation='Academic', count=1),\n",
       " Row(YEAR='2013', GoogleKnowlege_Occupation='Associate Justice of the Supreme Court of the United States', count=1),\n",
       " Row(YEAR='2013', GoogleKnowlege_Occupation='Astrophysicist', count=2),\n",
       " Row(YEAR='2013', GoogleKnowlege_Occupation='Attorney', count=1),\n",
       " Row(YEAR='2013', GoogleKnowlege_Occupation='Attorney at law', count=1),\n",
       " Row(YEAR='2013', GoogleKnowlege_Occupation='Author', count=2),\n",
       " Row(YEAR='2013', GoogleKnowlege_Occupation='Baseball player', count=1),\n",
       " Row(YEAR='2013', GoogleKnowlege_Occupation='Basketball Coach', count=1),\n",
       " Row(YEAR='2013', GoogleKnowlege_Occupation='Comedian', count=1),\n",
       " Row(YEAR='2013', GoogleKnowlege_Occupation='Consultant', count=1),\n",
       " Row(YEAR='2013', GoogleKnowlege_Occupation='Educator', count=1),\n",
       " Row(YEAR='2013', GoogleKnowlege_Occupation='Ethologist', count=1),\n",
       " Row(YEAR='2013', GoogleKnowlege_Occupation='Executive', count=1),\n",
       " Row(YEAR='2013', GoogleKnowlege_Occupation='Fiction writer', count=1),\n",
       " Row(YEAR='2013', GoogleKnowlege_Occupation='Film actor', count=1),\n",
       " Row(YEAR='2013', GoogleKnowlege_Occupation='Filmmaker', count=2),\n",
       " Row(YEAR='2013', GoogleKnowlege_Occupation='Football coach', count=1),\n",
       " Row(YEAR='2013', GoogleKnowlege_Occupation='Former Associate Justice of the Supreme Court of the United States', count=1),\n",
       " Row(YEAR='2013', GoogleKnowlege_Occupation='Former United States Secretary of Labor', count=1),\n",
       " Row(YEAR='2013', GoogleKnowlege_Occupation='Former United States Senator', count=1),\n",
       " Row(YEAR='2013', GoogleKnowlege_Occupation='Journalist', count=7),\n",
       " Row(YEAR='2013', GoogleKnowlege_Occupation='Musician', count=1),\n",
       " Row(YEAR='2013', GoogleKnowlege_Occupation='NA', count=1),\n",
       " Row(YEAR='2013', GoogleKnowlege_Occupation='Novelist', count=1),\n",
       " Row(YEAR='2013', GoogleKnowlege_Occupation='Professor', count=2),\n",
       " Row(YEAR='2013', GoogleKnowlege_Occupation='Reporter', count=1),\n",
       " Row(YEAR='2013', GoogleKnowlege_Occupation='Singer', count=1),\n",
       " Row(YEAR='2013', GoogleKnowlege_Occupation='United States Ambassador to the United Nations', count=1),\n",
       " Row(YEAR='2013', GoogleKnowlege_Occupation='United States Senate member', count=1),\n",
       " Row(YEAR='2013', GoogleKnowlege_Occupation='United States Senator', count=1),\n",
       " Row(YEAR='2013', GoogleKnowlege_Occupation='activist', count=1),\n",
       " Row(YEAR='2013', GoogleKnowlege_Occupation='actor', count=37),\n",
       " Row(YEAR='2013', GoogleKnowlege_Occupation='actress', count=21),\n",
       " Row(YEAR='2013', GoogleKnowlege_Occupation='afghan politician', count=1),\n",
       " Row(YEAR='2013', GoogleKnowlege_Occupation='armed forces officer', count=1),\n",
       " Row(YEAR='2013', GoogleKnowlege_Occupation='author', count=5),\n",
       " Row(YEAR='2013', GoogleKnowlege_Occupation='biographer', count=2),\n",
       " Row(YEAR='2013', GoogleKnowlege_Occupation='businessman', count=2),\n",
       " Row(YEAR='2013', GoogleKnowlege_Occupation='columnist', count=1),\n",
       " Row(YEAR='2013', GoogleKnowlege_Occupation='comedian', count=3),\n",
       " Row(YEAR='2013', GoogleKnowlege_Occupation='coorespondant', count=1),\n",
       " Row(YEAR='2013', GoogleKnowlege_Occupation='diplomat', count=1),\n",
       " Row(YEAR='2013', GoogleKnowlege_Occupation='director', count=1),\n",
       " Row(YEAR='2013', GoogleKnowlege_Occupation='drummer', count=1),\n",
       " Row(YEAR='2013', GoogleKnowlege_Occupation='economist', count=1),\n",
       " Row(YEAR='2013', GoogleKnowlege_Occupation='film director', count=7),\n",
       " Row(YEAR='2013', GoogleKnowlege_Occupation='filmmaker', count=2),\n",
       " Row(YEAR='2013', GoogleKnowlege_Occupation='former hhs secretary', count=1),\n",
       " Row(YEAR='2013', GoogleKnowlege_Occupation='former omb director', count=1),\n",
       " Row(YEAR='2013', GoogleKnowlege_Occupation='former president', count=1),\n",
       " Row(YEAR='2013', GoogleKnowlege_Occupation='former us representative', count=1),\n",
       " Row(YEAR='2013', GoogleKnowlege_Occupation='former us senator', count=1),\n",
       " Row(YEAR='2013', GoogleKnowlege_Occupation='former vice president', count=1),\n",
       " Row(YEAR='2013', GoogleKnowlege_Occupation='historian', count=1),\n",
       " Row(YEAR='2013', GoogleKnowlege_Occupation='humorist', count=1),\n",
       " Row(YEAR='2013', GoogleKnowlege_Occupation='journalist', count=9),\n",
       " Row(YEAR='2013', GoogleKnowlege_Occupation='police officer', count=1),\n",
       " Row(YEAR='2013', GoogleKnowlege_Occupation='professor', count=2),\n",
       " Row(YEAR='2013', GoogleKnowlege_Occupation='rock band', count=1),\n",
       " Row(YEAR='2013', GoogleKnowlege_Occupation='satirist', count=2),\n",
       " Row(YEAR='2013', GoogleKnowlege_Occupation='screenwriter', count=1),\n",
       " Row(YEAR='2013', GoogleKnowlege_Occupation='singer', count=1),\n",
       " Row(YEAR='2013', GoogleKnowlege_Occupation='soccer manager', count=1),\n",
       " Row(YEAR='2013', GoogleKnowlege_Occupation='speechwriter', count=1),\n",
       " Row(YEAR='2013', GoogleKnowlege_Occupation='sportscaster', count=1),\n",
       " Row(YEAR='2013', GoogleKnowlege_Occupation='stand-up comedian', count=2),\n",
       " Row(YEAR='2013', GoogleKnowlege_Occupation='television actress', count=1),\n",
       " Row(YEAR='2013', GoogleKnowlege_Occupation='television host', count=3),\n",
       " Row(YEAR='2013', GoogleKnowlege_Occupation='united nations official', count=1),\n",
       " Row(YEAR='2013', GoogleKnowlege_Occupation='us representative', count=1),\n",
       " Row(YEAR='2013', GoogleKnowlege_Occupation='white house sommunications director', count=1),\n",
       " Row(YEAR='2013', GoogleKnowlege_Occupation='writer', count=1),\n",
       " Row(YEAR='2014', GoogleKnowlege_Occupation='Author', count=3),\n",
       " Row(YEAR='2014', GoogleKnowlege_Occupation='Baseball player', count=1),\n",
       " Row(YEAR='2014', GoogleKnowlege_Occupation='Broadcaster', count=1),\n",
       " Row(YEAR='2014', GoogleKnowlege_Occupation='Choreographer', count=1),\n",
       " Row(YEAR='2014', GoogleKnowlege_Occupation='Coach', count=1),\n",
       " ...]"
      ]
     },
     "execution_count": 37,
     "metadata": {},
     "output_type": "execute_result"
    }
   ],
   "source": [
    "sorted(df.groupBy(['YEAR', 'GoogleKnowlege_Occupation']).count().collect())"
   ]
  },
  {
   "cell_type": "markdown",
   "metadata": {},
   "source": [
    "### Find top occupation for every year."
   ]
  },
  {
   "cell_type": "code",
   "execution_count": 43,
   "metadata": {
    "ExecuteTime": {
     "end_time": "2021-02-17T07:25:25.239772Z",
     "start_time": "2021-02-17T07:25:25.227804Z"
    }
   },
   "outputs": [
    {
     "data": {
      "text/plain": [
       "<pyspark.sql.context.SQLContext at 0x2452e426670>"
      ]
     },
     "execution_count": 43,
     "metadata": {},
     "output_type": "execute_result"
    }
   ],
   "source": [
    "from pyspark import SparkContext\n",
    "from pyspark.sql import SQLContext\n",
    "sc = SparkContext.getOrCreate()\n",
    "sqlContext = SQLContext(sc)\n",
    "sqlContext"
   ]
  },
  {
   "cell_type": "code",
   "execution_count": 45,
   "metadata": {
    "ExecuteTime": {
     "end_time": "2021-02-17T07:27:30.449818Z",
     "start_time": "2021-02-17T07:27:30.395963Z"
    }
   },
   "outputs": [],
   "source": [
    "df.createOrReplaceTempView(\"df_table\")"
   ]
  },
  {
   "cell_type": "code",
   "execution_count": 47,
   "metadata": {
    "ExecuteTime": {
     "end_time": "2021-02-17T08:00:48.248287Z",
     "start_time": "2021-02-17T08:00:48.006571Z"
    }
   },
   "outputs": [
    {
     "name": "stdout",
     "output_type": "stream",
     "text": [
      "+----+-------------------------+----------+--------+----------------+\n",
      "|YEAR|GoogleKnowlege_Occupation|      Show|   Group|  Raw_Guest_List|\n",
      "+----+-------------------------+----------+--------+----------------+\n",
      "|1999|                    actor|01-11-1999|  Acting|  Michael J. Fox|\n",
      "|1999|                 Comedian|01-12-1999|  Comedy| Sandra Bernhard|\n",
      "|1999|       television actress|   1/13/99|  Acting|   Tracey Ullman|\n",
      "|1999|             film actress|   1/14/99|  Acting|Gillian Anderson|\n",
      "|1999|                    actor|   1/18/99|  Acting|David Alan Grier|\n",
      "|1999|                    actor|   1/19/99|  Acting| William Baldwin|\n",
      "|1999|          Singer-lyricist|   1/20/99|Musician|   Michael Stipe|\n",
      "|1999|                    model|   1/21/99|   Media|  Carmen Electra|\n",
      "|1999|                    actor|   1/25/99|  Acting| Matthew Lillard|\n",
      "|1999|        stand-up comedian|   1/26/99|  Comedy|     David Cross|\n",
      "+----+-------------------------+----------+--------+----------------+\n",
      "only showing top 10 rows\n",
      "\n"
     ]
    }
   ],
   "source": [
    "sqlContext.sql(\" SELECT * FROM df_table \").show(n = 10)"
   ]
  },
  {
   "cell_type": "code",
   "execution_count": 67,
   "metadata": {
    "ExecuteTime": {
     "end_time": "2021-02-17T08:34:05.500166Z",
     "start_time": "2021-02-17T08:34:04.993520Z"
    }
   },
   "outputs": [
    {
     "name": "stdout",
     "output_type": "stream",
     "text": [
      "+----+-------------------------+-----+\n",
      "|YEAR|GoogleKnowlege_Occupation|COUNT|\n",
      "+----+-------------------------+-----+\n",
      "|2002|                    actor|   64|\n",
      "|2001|                    actor|   62|\n",
      "|2000|                    actor|   61|\n",
      "|1999|                    actor|   53|\n",
      "|2003|                    actor|   47|\n",
      "|1999|                  actress|   42|\n",
      "|2013|                    actor|   37|\n",
      "|2006|                    actor|   33|\n",
      "|2014|                    actor|   31|\n",
      "|2004|                    actor|   31|\n",
      "|2010|                    actor|   30|\n",
      "|2011|                    actor|   29|\n",
      "|2000|                  actress|   29|\n",
      "|2005|                    actor|   25|\n",
      "|2003|                  actress|   24|\n",
      "|2013|                  actress|   21|\n",
      "|2012|                    actor|   20|\n",
      "|2008|                    actor|   20|\n",
      "|2002|                  actress|   20|\n",
      "|2009|                    actor|   19|\n",
      "+----+-------------------------+-----+\n",
      "only showing top 20 rows\n",
      "\n"
     ]
    }
   ],
   "source": [
    "df_top = sqlContext.sql(\" SELECT YEAR ,GoogleKnowlege_Occupation, COUNT(*) AS COUNT FROM df_table group by YEAR,GoogleKnowlege_Occupation ORDER BY COUNT DESC\")\n",
    "df_top.show()"
   ]
  },
  {
   "cell_type": "code",
   "execution_count": 85,
   "metadata": {
    "ExecuteTime": {
     "end_time": "2021-02-17T08:47:43.405374Z",
     "start_time": "2021-02-17T08:47:41.745813Z"
    }
   },
   "outputs": [
    {
     "name": "stdout",
     "output_type": "stream",
     "text": [
      "+----+-------------------------+-----+-----------+\n",
      "|YEAR|GoogleKnowlege_Occupation|COUNT|desnse_rank|\n",
      "+----+-------------------------+-----+-----------+\n",
      "|2002|                    actor|   64|          1|\n",
      "|2001|                    actor|   62|          1|\n",
      "|2000|                    actor|   61|          1|\n",
      "|1999|                    actor|   53|          1|\n",
      "|2003|                    actor|   47|          1|\n",
      "|1999|                  actress|   42|          1|\n",
      "|2013|                    actor|   37|          1|\n",
      "|2006|                    actor|   33|          1|\n",
      "|2004|                    actor|   31|          1|\n",
      "|2014|                    actor|   31|          1|\n",
      "+----+-------------------------+-----+-----------+\n",
      "only showing top 10 rows\n",
      "\n"
     ]
    }
   ],
   "source": [
    "from pyspark.sql.window import Window\n",
    "from pyspark.sql.functions import desc\n",
    "windowSpec  = Window.partitionBy(\"YEAR\").orderBy(\"YEAR\")\n",
    "\n",
    "from pyspark.sql.functions import dense_rank\n",
    "df_top.withColumn(\"desnse_rank\",dense_rank().over(windowSpec)).sort(desc(\"COUNT\")).show(10)"
   ]
  },
  {
   "cell_type": "markdown",
   "metadata": {},
   "source": [
    "### Which guest have attended maximum shows"
   ]
  },
  {
   "cell_type": "code",
   "execution_count": 87,
   "metadata": {
    "ExecuteTime": {
     "end_time": "2021-02-17T08:51:30.749397Z",
     "start_time": "2021-02-17T08:51:29.913630Z"
    }
   },
   "outputs": [
    {
     "name": "stdout",
     "output_type": "stream",
     "text": [
      "+--------------------------------+---------+\n",
      "|Guest_Name_who_attended_MaxShows|max_shows|\n",
      "+--------------------------------+---------+\n",
      "|                  Fareed Zakaria|       19|\n",
      "+--------------------------------+---------+\n",
      "\n"
     ]
    }
   ],
   "source": [
    "sqlContext.sql(\" SELECT Raw_Guest_List as Guest_Name_who_attended_MaxShows, count(*) as max_shows FROM df_table group by Raw_Guest_List order by max_shows desc limit 1\").show(n = 10)"
   ]
  },
  {
   "cell_type": "markdown",
   "metadata": {},
   "source": [
    "### List occupation under each group "
   ]
  },
  {
   "cell_type": "code",
   "execution_count": 88,
   "metadata": {
    "ExecuteTime": {
     "end_time": "2021-02-17T08:52:40.312893Z",
     "start_time": "2021-02-17T08:52:39.583841Z"
    }
   },
   "outputs": [
    {
     "name": "stdout",
     "output_type": "stream",
     "text": [
      "+--------+-------------------------+\n",
      "|   Group|GoogleKnowlege_Occupation|\n",
      "+--------+-------------------------+\n",
      "|Academic|                 Academic|\n",
      "|Academic|                Economist|\n",
      "|Academic|               Ethologist|\n",
      "|Academic|                 Futurist|\n",
      "|Academic|               Geneticist|\n",
      "|Academic|                Historian|\n",
      "|Academic|                Innovator|\n",
      "|Academic|            Law professor|\n",
      "|Academic|                Professor|\n",
      "|Academic|             Psychologist|\n",
      "+--------+-------------------------+\n",
      "only showing top 10 rows\n",
      "\n"
     ]
    }
   ],
   "source": [
    "sqlContext.sql(\" SELECT distinct Group, GoogleKnowlege_Occupation FROM df_table group by Group, GoogleKnowlege_Occupation order by Group, GoogleKnowlege_Occupation\").show(n = 10)"
   ]
  },
  {
   "cell_type": "markdown",
   "metadata": {},
   "source": [
    "### How many show per group of year and occupation"
   ]
  },
  {
   "cell_type": "code",
   "execution_count": 89,
   "metadata": {
    "ExecuteTime": {
     "end_time": "2021-02-17T08:54:09.389206Z",
     "start_time": "2021-02-17T08:54:08.880566Z"
    }
   },
   "outputs": [
    {
     "name": "stdout",
     "output_type": "stream",
     "text": [
      "+--------+----+-------------------------+-----+\n",
      "|   Group|YEAR|GoogleKnowlege_Occupation|Shows|\n",
      "+--------+----+-------------------------+-----+\n",
      "|Academic|2001|                Professor|    1|\n",
      "|Academic|2001|                professor|    1|\n",
      "|Academic|2003|                Historian|    1|\n",
      "|Academic|2003|     foreign policy ex...|    1|\n",
      "|Academic|2003|                historian|    2|\n",
      "|Academic|2004|                Historian|    1|\n",
      "|Academic|2005|                Economist|    1|\n",
      "|Academic|2005|                Historian|    1|\n",
      "|Academic|2005|                Professor|    1|\n",
      "|Academic|2005|                  Scholar|    1|\n",
      "+--------+----+-------------------------+-----+\n",
      "only showing top 10 rows\n",
      "\n"
     ]
    }
   ],
   "source": [
    "sqlContext.sql(\" SELECT Group, YEAR, GoogleKnowlege_Occupation, count(*) as Shows FROM df_table group by Group, YEAR, GoogleKnowlege_Occupation order by Group, YEAR, GoogleKnowlege_Occupation \").show(n = 10)"
   ]
  },
  {
   "cell_type": "code",
   "execution_count": null,
   "metadata": {},
   "outputs": [],
   "source": []
  }
 ],
 "metadata": {
  "kernelspec": {
   "display_name": "Python 3",
   "language": "python",
   "name": "python3"
  },
  "language_info": {
   "codemirror_mode": {
    "name": "ipython",
    "version": 3
   },
   "file_extension": ".py",
   "mimetype": "text/x-python",
   "name": "python",
   "nbconvert_exporter": "python",
   "pygments_lexer": "ipython3",
   "version": "3.8.3"
  },
  "toc": {
   "base_numbering": 1,
   "nav_menu": {},
   "number_sections": true,
   "sideBar": true,
   "skip_h1_title": true,
   "title_cell": "Table of Contents",
   "title_sidebar": "Contents",
   "toc_cell": true,
   "toc_position": {
    "height": "calc(100% - 180px)",
    "left": "10px",
    "top": "150px",
    "width": "240px"
   },
   "toc_section_display": true,
   "toc_window_display": true
  }
 },
 "nbformat": 4,
 "nbformat_minor": 4
}
