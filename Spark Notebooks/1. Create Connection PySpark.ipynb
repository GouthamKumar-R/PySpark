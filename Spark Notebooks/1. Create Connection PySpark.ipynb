{
 "cells": [
  {
   "cell_type": "markdown",
   "metadata": {
    "ExecuteTime": {
     "end_time": "2020-12-16T06:03:22.283060Z",
     "start_time": "2020-12-16T06:03:22.275081Z"
    }
   },
   "source": [
    "# Creating a SPARK ccontext Connections"
   ]
  },
  {
   "cell_type": "code",
   "execution_count": 2,
   "metadata": {
    "ExecuteTime": {
     "end_time": "2020-12-16T06:03:54.174731Z",
     "start_time": "2020-12-16T06:03:54.158722Z"
    }
   },
   "outputs": [],
   "source": [
    "#importing sparkcontext\n",
    "from pyspark import SparkContext"
   ]
  },
  {
   "cell_type": "code",
   "execution_count": 3,
   "metadata": {
    "ExecuteTime": {
     "end_time": "2020-12-16T06:04:21.736842Z",
     "start_time": "2020-12-16T06:04:21.729862Z"
    }
   },
   "outputs": [],
   "source": [
    "#Create or use existing sparkcontext\n",
    "sc = SparkContext.getOrCreate()"
   ]
  },
  {
   "cell_type": "code",
   "execution_count": 5,
   "metadata": {
    "ExecuteTime": {
     "end_time": "2020-12-16T06:04:38.186056Z",
     "start_time": "2020-12-16T06:04:38.174091Z"
    }
   },
   "outputs": [
    {
     "name": "stdout",
     "output_type": "stream",
     "text": [
      "<SparkContext master=local[*] appName=PySparkShell>\n"
     ]
    }
   ],
   "source": [
    "#print obejct sc\n",
    "print(sc)"
   ]
  },
  {
   "cell_type": "code",
   "execution_count": 6,
   "metadata": {
    "ExecuteTime": {
     "end_time": "2020-12-16T06:05:04.986687Z",
     "start_time": "2020-12-16T06:05:04.979705Z"
    }
   },
   "outputs": [
    {
     "name": "stdout",
     "output_type": "stream",
     "text": [
      "2.2.0\n"
     ]
    }
   ],
   "source": [
    "print(sc.version)"
   ]
  },
  {
   "cell_type": "code",
   "execution_count": 7,
   "metadata": {
    "ExecuteTime": {
     "end_time": "2020-12-16T06:05:58.737098Z",
     "start_time": "2020-12-16T06:05:58.723139Z"
    }
   },
   "outputs": [
    {
     "name": "stdout",
     "output_type": "stream",
     "text": [
      "<SparkContext master=local[*] appName=PySparkShell>\n"
     ]
    }
   ],
   "source": [
    "#Using these 3 lines we create the connection\n",
    "from pyspark import SparkContext\n",
    "sc = SparkContext.getOrCreate()\n",
    "print(sc)"
   ]
  },
  {
   "cell_type": "markdown",
   "metadata": {},
   "source": [
    "## Creating Spark Session for SQL"
   ]
  },
  {
   "cell_type": "code",
   "execution_count": 8,
   "metadata": {
    "ExecuteTime": {
     "end_time": "2020-12-16T06:11:03.205708Z",
     "start_time": "2020-12-16T06:11:03.194738Z"
    }
   },
   "outputs": [],
   "source": [
    "#import spark\n",
    "import pyspark"
   ]
  },
  {
   "cell_type": "code",
   "execution_count": 9,
   "metadata": {
    "ExecuteTime": {
     "end_time": "2020-12-16T06:11:29.683073Z",
     "start_time": "2020-12-16T06:11:29.671104Z"
    }
   },
   "outputs": [],
   "source": [
    "#we will import saprk session lib\n",
    "from pyspark.sql import SparkSession"
   ]
  },
  {
   "cell_type": "code",
   "execution_count": 10,
   "metadata": {
    "ExecuteTime": {
     "end_time": "2020-12-16T06:12:21.871625Z",
     "start_time": "2020-12-16T06:12:20.922123Z"
    }
   },
   "outputs": [],
   "source": [
    "#strat Spark session and give appname of your pref\n",
    "spark = SparkSession.builder.appName(\"Basics\").getOrCreate()\n",
    "#it will take some time"
   ]
  },
  {
   "cell_type": "code",
   "execution_count": 11,
   "metadata": {
    "ExecuteTime": {
     "end_time": "2020-12-16T06:12:33.067712Z",
     "start_time": "2020-12-16T06:12:33.059734Z"
    }
   },
   "outputs": [
    {
     "name": "stdout",
     "output_type": "stream",
     "text": [
      "<pyspark.sql.session.SparkSession object at 0x000001B27F543460>\n"
     ]
    }
   ],
   "source": [
    "print(spark)"
   ]
  }
 ],
 "metadata": {
  "kernelspec": {
   "display_name": "Python 3",
   "language": "python",
   "name": "python3"
  },
  "language_info": {
   "codemirror_mode": {
    "name": "ipython",
    "version": 3
   },
   "file_extension": ".py",
   "mimetype": "text/x-python",
   "name": "python",
   "nbconvert_exporter": "python",
   "pygments_lexer": "ipython3",
   "version": "3.9.0"
  }
 },
 "nbformat": 4,
 "nbformat_minor": 4
}
