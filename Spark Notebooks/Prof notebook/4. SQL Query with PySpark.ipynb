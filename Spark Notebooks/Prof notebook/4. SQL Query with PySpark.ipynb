{
 "cells": [
  {
   "cell_type": "markdown",
   "metadata": {
    "toc": true
   },
   "source": [
    "<h1>Table of Contents<span class=\"tocSkip\"></span></h1>\n",
    "<div class=\"toc\"><ul class=\"toc-item\"><li><ul class=\"toc-item\"><li><span><a href=\"#SQL-Query-in-PySpark\" data-toc-modified-id=\"SQL-Query-in-PySpark-0.1\">SQL Query in PySpark</a></span></li><li><span><a href=\"#Register-SQL-View\" data-toc-modified-id=\"Register-SQL-View-0.2\">Register SQL View</a></span></li></ul></li><li><span><a href=\"#SQL-queries-on-PYSQL-View\" data-toc-modified-id=\"SQL-queries-on-PYSQL-View-1\">SQL queries on PYSQL View</a></span></li></ul></div>"
   ]
  },
  {
   "cell_type": "markdown",
   "metadata": {},
   "source": [
    "### SQL Query in PySpark"
   ]
  },
  {
   "cell_type": "markdown",
   "metadata": {},
   "source": [
    "Lets create Json data first.\n",
    "Create a file with extension \"i am using emp.json\"\n",
    "Copy below data in file\n",
    "\n",
    "{\"name\":\"Deepak\"}\n",
    "{\"name\":\"Amit\"}\n",
    "{\"name\":\"Rudra\", \"age\":20}\n",
    "{\"name\":\"Parul\", \"age\":21}\n",
    "{\"name\":\"Sikha\", \"age\": 20,\"salary\":200}"
   ]
  },
  {
   "cell_type": "code",
   "execution_count": 2,
   "metadata": {},
   "outputs": [
    {
     "name": "stdout",
     "output_type": "stream",
     "text": [
      "<pyspark.sql.session.SparkSession object at 0x00000203D8315668>\n"
     ]
    }
   ],
   "source": [
    "# Create connection\n",
    "import pyspark\n",
    "from pyspark.sql  import SparkSession\n",
    "spark = SparkSession.builder.appName('Algae').getOrCreate()\n",
    "print(spark)"
   ]
  },
  {
   "cell_type": "code",
   "execution_count": 3,
   "metadata": {},
   "outputs": [
    {
     "name": "stdout",
     "output_type": "stream",
     "text": [
      "+----+------+------+\n",
      "| age|  name|salary|\n",
      "+----+------+------+\n",
      "|null|Deepak|  null|\n",
      "|null|  Amit|  null|\n",
      "|  20| Rudra|  null|\n",
      "|  21| Parul|  null|\n",
      "|  20| Sikha|   200|\n",
      "+----+------+------+\n",
      "\n"
     ]
    }
   ],
   "source": [
    "df = spark.read.json('emp.json')\n",
    "df.show()"
   ]
  },
  {
   "cell_type": "markdown",
   "metadata": {},
   "source": [
    "### Register SQL View"
   ]
  },
  {
   "cell_type": "code",
   "execution_count": 4,
   "metadata": {},
   "outputs": [],
   "source": [
    "# Register the DataFrame as a SQL temporary view\n",
    "df.createOrReplaceTempView(\"emp\")"
   ]
  },
  {
   "cell_type": "code",
   "execution_count": 5,
   "metadata": {},
   "outputs": [],
   "source": [
    "sql_results = spark.sql(\"SELECT * FROM emp\")"
   ]
  },
  {
   "cell_type": "code",
   "execution_count": 5,
   "metadata": {},
   "outputs": [
    {
     "data": {
      "text/plain": [
       "DataFrame[age: bigint, name: string, salary: bigint]"
      ]
     },
     "execution_count": 5,
     "metadata": {},
     "output_type": "execute_result"
    }
   ],
   "source": [
    "sql_results"
   ]
  },
  {
   "cell_type": "code",
   "execution_count": 10,
   "metadata": {},
   "outputs": [
    {
     "name": "stdout",
     "output_type": "stream",
     "text": [
      "+----+------+------+\n",
      "| age|  name|salary|\n",
      "+----+------+------+\n",
      "|null|Deepak|  null|\n",
      "|null|  Amit|  null|\n",
      "|  20| Rudra|  null|\n",
      "|  21| Parul|  null|\n",
      "|  20| Sikha|   200|\n",
      "+----+------+------+\n",
      "\n"
     ]
    }
   ],
   "source": [
    "sql_results.show()"
   ]
  },
  {
   "cell_type": "code",
   "execution_count": 13,
   "metadata": {},
   "outputs": [
    {
     "name": "stdout",
     "output_type": "stream",
     "text": [
      "+------+--------+-----------+\n",
      "|  name|avg(age)|avg(salary)|\n",
      "+------+--------+-----------+\n",
      "| Rudra|    20.0|       null|\n",
      "| Sikha|    20.0|      200.0|\n",
      "|Deepak|    null|       null|\n",
      "|  Amit|    null|       null|\n",
      "| Parul|    21.0|       null|\n",
      "+------+--------+-----------+\n",
      "\n"
     ]
    }
   ],
   "source": [
    "sql_results.groupBy(\"name\").mean().show()"
   ]
  },
  {
   "cell_type": "markdown",
   "metadata": {},
   "source": [
    "## SQL queries on PYSQL View"
   ]
  },
  {
   "cell_type": "code",
   "execution_count": 8,
   "metadata": {},
   "outputs": [
    {
     "name": "stdout",
     "output_type": "stream",
     "text": [
      "+---+-----+------+\n",
      "|age| name|salary|\n",
      "+---+-----+------+\n",
      "| 21|Parul|  null|\n",
      "+---+-----+------+\n",
      "\n"
     ]
    }
   ],
   "source": [
    "spark.sql(\"SELECT * FROM emp WHERE age=21\").show()"
   ]
  },
  {
   "cell_type": "code",
   "execution_count": 9,
   "metadata": {},
   "outputs": [
    {
     "name": "stdout",
     "output_type": "stream",
     "text": [
      "+---+-----+------+\n",
      "|age| name|salary|\n",
      "+---+-----+------+\n",
      "| 21|Parul|  null|\n",
      "| 20|Sikha|   200|\n",
      "+---+-----+------+\n",
      "\n"
     ]
    }
   ],
   "source": [
    "spark.sql(\"SELECT * FROM emp WHERE age=21 or salary =200\").show()"
   ]
  },
  {
   "cell_type": "code",
   "execution_count": 7,
   "metadata": {},
   "outputs": [
    {
     "name": "stdout",
     "output_type": "stream",
     "text": [
      "+----+-----------+\n",
      "| age|avg(salary)|\n",
      "+----+-----------+\n",
      "|null|       null|\n",
      "|  21|       null|\n",
      "|  20|      200.0|\n",
      "+----+-----------+\n",
      "\n"
     ]
    }
   ],
   "source": [
    "sql_results = spark.sql(\"SELECT age, avg(salary) FROM emp  group by age\")\n",
    "sql_results.show()"
   ]
  }
 ],
 "metadata": {
  "kernelspec": {
   "display_name": "Python 3",
   "language": "python",
   "name": "python3"
  },
  "language_info": {
   "codemirror_mode": {
    "name": "ipython",
    "version": 3
   },
   "file_extension": ".py",
   "mimetype": "text/x-python",
   "name": "python",
   "nbconvert_exporter": "python",
   "pygments_lexer": "ipython3",
   "version": "3.9.0"
  },
  "toc": {
   "base_numbering": 1,
   "nav_menu": {},
   "number_sections": false,
   "sideBar": true,
   "skip_h1_title": true,
   "title_cell": "Table of Contents",
   "title_sidebar": "Contents",
   "toc_cell": true,
   "toc_position": {},
   "toc_section_display": true,
   "toc_window_display": false
  }
 },
 "nbformat": 4,
 "nbformat_minor": 2
}
