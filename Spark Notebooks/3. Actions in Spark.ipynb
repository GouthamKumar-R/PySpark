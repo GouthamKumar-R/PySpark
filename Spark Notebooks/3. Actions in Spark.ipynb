{
 "cells": [
  {
   "cell_type": "markdown",
   "metadata": {
    "ExecuteTime": {
     "end_time": "2020-12-21T04:01:51.680122Z",
     "start_time": "2020-12-21T04:01:51.668155Z"
    }
   },
   "source": [
    "* count\n",
    "* collect\n",
    "* take\n",
    "* top\n",
    "* takeOrdered\n",
    "* Reduce\n",
    "* CountByValue\n",
    "* First\n",
    "* TakeSample"
   ]
  },
  {
   "cell_type": "code",
   "execution_count": 1,
   "metadata": {
    "ExecuteTime": {
     "end_time": "2020-12-21T03:59:46.587414Z",
     "start_time": "2020-12-21T03:59:46.572454Z"
    }
   },
   "outputs": [
    {
     "name": "stdout",
     "output_type": "stream",
     "text": [
      "4\n",
      "13\n",
      "29\n",
      "54\n"
     ]
    }
   ],
   "source": [
    "# this is traditional computing\n",
    "a = [2,3,4,5]\n",
    "sum = 0\n",
    "for i in a:\n",
    "    sum = sum + (i*i)\n",
    "    print(sum)"
   ]
  },
  {
   "cell_type": "code",
   "execution_count": 3,
   "metadata": {
    "ExecuteTime": {
     "end_time": "2020-12-21T04:13:59.118828Z",
     "start_time": "2020-12-21T04:13:59.100870Z"
    }
   },
   "outputs": [],
   "source": [
    "#we can paralleise the squaring(map) and reduce the sum\n",
    "#solved below"
   ]
  },
  {
   "cell_type": "code",
   "execution_count": 8,
   "metadata": {
    "ExecuteTime": {
     "end_time": "2020-12-21T04:16:50.996926Z",
     "start_time": "2020-12-21T04:16:45.761697Z"
    }
   },
   "outputs": [
    {
     "data": {
      "text/plain": [
       "[99, 98, 97, 96, 95]"
      ]
     },
     "execution_count": 8,
     "metadata": {},
     "output_type": "execute_result"
    }
   ],
   "source": [
    "### View ordered 5 elements from RDD\n",
    "#creating a plain RDD\n",
    "from pyspark import SparkContext\n",
    "sc = SparkContext.getOrCreate()\n",
    "#desecnding order\n",
    "a = range(100)\n",
    "RDD = sc.parallelize(a)\n",
    "RDD.top(5)\n"
   ]
  },
  {
   "cell_type": "code",
   "execution_count": 7,
   "metadata": {
    "ExecuteTime": {
     "end_time": "2020-12-21T04:16:45.758704Z",
     "start_time": "2020-12-21T04:16:40.961804Z"
    }
   },
   "outputs": [
    {
     "data": {
      "text/plain": [
       "[-5, -4, 1, 5, 6]"
      ]
     },
     "execution_count": 7,
     "metadata": {},
     "output_type": "execute_result"
    }
   ],
   "source": [
    "#asceding order\n",
    "b = [1,5,9,7,10,55,87,6,-5,-4]\n",
    "rdd_asc = sc.parallelize(b)\n",
    "rdd_asc.takeOrdered(5)"
   ]
  },
  {
   "cell_type": "markdown",
   "metadata": {},
   "source": [
    "### Take Sample"
   ]
  },
  {
   "cell_type": "code",
   "execution_count": 10,
   "metadata": {
    "ExecuteTime": {
     "end_time": "2020-12-21T04:17:52.300630Z",
     "start_time": "2020-12-21T04:17:42.626840Z"
    }
   },
   "outputs": [
    {
     "data": {
      "text/plain": [
       "[3, 9, 3, 1, 0, 0, 6, 8, 3, 6, 9, 9, 2, 1, 0, 1, 2, 2, 4, 9]"
      ]
     },
     "execution_count": 10,
     "metadata": {},
     "output_type": "execute_result"
    }
   ],
   "source": [
    "r = sc.parallelize(range(0,10))\n",
    "r.takeSample(True, 20, 1)\n",
    "#takeSample(with replaccement, n [seed vlaue])"
   ]
  },
  {
   "cell_type": "code",
   "execution_count": 11,
   "metadata": {
    "ExecuteTime": {
     "end_time": "2020-12-21T04:18:55.933939Z",
     "start_time": "2020-12-21T04:18:46.334968Z"
    }
   },
   "outputs": [
    {
     "data": {
      "text/plain": [
       "[5, 2]"
      ]
     },
     "execution_count": 11,
     "metadata": {},
     "output_type": "execute_result"
    }
   ],
   "source": [
    "r1 = sc.parallelize(range(0,10))\n",
    "r1.takeSample(False,2,10)"
   ]
  },
  {
   "cell_type": "markdown",
   "metadata": {
    "ExecuteTime": {
     "end_time": "2020-12-21T04:25:08.044838Z",
     "start_time": "2020-12-21T04:25:08.034865Z"
    }
   },
   "source": [
    "### CountByValue"
   ]
  },
  {
   "cell_type": "code",
   "execution_count": 13,
   "metadata": {
    "ExecuteTime": {
     "end_time": "2020-12-21T04:26:01.770893Z",
     "start_time": "2020-12-21T04:25:56.769008Z"
    }
   },
   "outputs": [
    {
     "data": {
      "text/plain": [
       "defaultdict(int, {1: 2, 2: 1, 3: 1, 4: 2, 5: 3})"
      ]
     },
     "execution_count": 13,
     "metadata": {},
     "output_type": "execute_result"
    }
   ],
   "source": [
    "a = [1,2,3,4,5,5,5,4,1]\n",
    "datacount = sc.parallelize(a)\n",
    "datacount.countByValue()"
   ]
  },
  {
   "cell_type": "code",
   "execution_count": 14,
   "metadata": {
    "ExecuteTime": {
     "end_time": "2020-12-21T04:27:02.001217Z",
     "start_time": "2020-12-21T04:26:56.946857Z"
    }
   },
   "outputs": [
    {
     "data": {
      "text/plain": [
       "defaultdict(int, {0: 1, 1: 1, 2: 1, 3: 1})"
      ]
     },
     "execution_count": 14,
     "metadata": {},
     "output_type": "execute_result"
    }
   ],
   "source": [
    "kv = sc.parallelize([(0,0),(1,1),(2,4),(3,9)])\n",
    "kv.countByKey()"
   ]
  },
  {
   "cell_type": "markdown",
   "metadata": {
    "ExecuteTime": {
     "end_time": "2020-12-21T04:28:06.819901Z",
     "start_time": "2020-12-21T04:28:06.808931Z"
    }
   },
   "source": [
    "### Reduce"
   ]
  },
  {
   "cell_type": "code",
   "execution_count": 16,
   "metadata": {
    "ExecuteTime": {
     "end_time": "2020-12-21T04:29:01.820516Z",
     "start_time": "2020-12-21T04:28:56.756802Z"
    }
   },
   "outputs": [
    {
     "data": {
      "text/plain": [
       "190"
      ]
     },
     "execution_count": 16,
     "metadata": {},
     "output_type": "execute_result"
    }
   ],
   "source": [
    "array = sc.parallelize(range(20))\n",
    "#combine the results \n",
    "array.reduce(lambda x,y: x+y)"
   ]
  },
  {
   "cell_type": "markdown",
   "metadata": {},
   "source": [
    "### Map - Transforamtion command"
   ]
  },
  {
   "cell_type": "code",
   "execution_count": 20,
   "metadata": {
    "ExecuteTime": {
     "end_time": "2020-12-21T04:32:09.092198Z",
     "start_time": "2020-12-21T04:32:03.875830Z"
    }
   },
   "outputs": [
    {
     "data": {
      "text/plain": [
       "[0, 1, 4, 9, 16, 25]"
      ]
     },
     "execution_count": 20,
     "metadata": {},
     "output_type": "execute_result"
    }
   ],
   "source": [
    "kv1 = sc.parallelize(range(6))\n",
    "kv1.map(lambda x: (x**2)).collect()"
   ]
  },
  {
   "cell_type": "code",
   "execution_count": 18,
   "metadata": {
    "ExecuteTime": {
     "end_time": "2020-12-21T04:31:50.767528Z",
     "start_time": "2020-12-21T04:31:45.373833Z"
    }
   },
   "outputs": [
    {
     "data": {
      "text/plain": [
       "55"
      ]
     },
     "execution_count": 18,
     "metadata": {},
     "output_type": "execute_result"
    }
   ],
   "source": [
    "#both map and reduce\n",
    "kv1.map(lambda x: (x**2)).reduce(lambda x,y: x+y)"
   ]
  },
  {
   "cell_type": "markdown",
   "metadata": {},
   "source": [
    "### Find the longest sting in RDD"
   ]
  },
  {
   "cell_type": "code",
   "execution_count": 22,
   "metadata": {
    "ExecuteTime": {
     "end_time": "2020-12-21T04:41:07.313788Z",
     "start_time": "2020-12-21T04:41:02.363950Z"
    }
   },
   "outputs": [
    {
     "data": {
      "text/plain": [
       "'goutham'"
      ]
     },
     "execution_count": 22,
     "metadata": {},
     "output_type": "execute_result"
    }
   ],
   "source": [
    "words = [\"This\",\"is\", \"goutham\",\"Kumar\"]\n",
    "rdd = sc.parallelize(words)\n",
    "rdd.reduce(lambda x,y: x if len(x) > len(y) else y)"
   ]
  },
  {
   "cell_type": "code",
   "execution_count": 24,
   "metadata": {
    "ExecuteTime": {
     "end_time": "2020-12-21T04:46:13.946822Z",
     "start_time": "2020-12-21T04:46:13.936848Z"
    }
   },
   "outputs": [],
   "source": [
    "# lexographic fn\n",
    "#-> if 2 strings have same len then return the largest(from alphabetical order) \n",
    "def larger(x,y):\n",
    "    if len(x) > len(y) :return (x)\n",
    "    elif len(x) < len(y) :return(y)\n",
    "    else:  #if length matches\n",
    "        if x > y : return(x)\n",
    "        else :return(y)"
   ]
  },
  {
   "cell_type": "code",
   "execution_count": 26,
   "metadata": {
    "ExecuteTime": {
     "end_time": "2020-12-21T04:47:24.845497Z",
     "start_time": "2020-12-21T04:47:19.840862Z"
    }
   },
   "outputs": [
    {
     "data": {
      "text/plain": [
       "'this'"
      ]
     },
     "execution_count": 26,
     "metadata": {},
     "output_type": "execute_result"
    }
   ],
   "source": [
    "words2 = [\"this\", \"hatt\", \"batt\"]\n",
    "rdd = sc.parallelize(words2)\n",
    "rdd.reduce(larger)"
   ]
  },
  {
   "cell_type": "markdown",
   "metadata": {
    "ExecuteTime": {
     "end_time": "2020-12-21T04:49:38.934576Z",
     "start_time": "2020-12-21T04:49:38.927595Z"
    }
   },
   "source": [
    "### Reducebykey - Transformation command"
   ]
  },
  {
   "cell_type": "code",
   "execution_count": 31,
   "metadata": {
    "ExecuteTime": {
     "end_time": "2020-12-21T04:56:50.578620Z",
     "start_time": "2020-12-21T04:56:39.882874Z"
    }
   },
   "outputs": [
    {
     "data": {
      "text/plain": [
       "[(1, 5), (2, 10)]"
      ]
     },
     "execution_count": 31,
     "metadata": {},
     "output_type": "execute_result"
    }
   ],
   "source": [
    "data = sc.parallelize([(1,2),(1,3),(2,1),(2,9)])\n",
    "#redecuce the key and add the values\n",
    "data.reduceByKey(lambda x,y: (x+y)).collect()"
   ]
  },
  {
   "cell_type": "code",
   "execution_count": 32,
   "metadata": {
    "ExecuteTime": {
     "end_time": "2020-12-21T04:58:38.448785Z",
     "start_time": "2020-12-21T04:58:38.435819Z"
    }
   },
   "outputs": [],
   "source": [
    "# DAG-> Directed Acyclic Graph It will not end up into a cylce "
   ]
  },
  {
   "cell_type": "code",
   "execution_count": null,
   "metadata": {},
   "outputs": [],
   "source": []
  }
 ],
 "metadata": {
  "kernelspec": {
   "display_name": "Python 3",
   "language": "python",
   "name": "python3"
  },
  "language_info": {
   "codemirror_mode": {
    "name": "ipython",
    "version": 3
   },
   "file_extension": ".py",
   "mimetype": "text/x-python",
   "name": "python",
   "nbconvert_exporter": "python",
   "pygments_lexer": "ipython3",
   "version": "3.9.0"
  }
 },
 "nbformat": 4,
 "nbformat_minor": 4
}
